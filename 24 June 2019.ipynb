{
 "cells": [
  {
   "cell_type": "code",
   "execution_count": 6,
   "metadata": {},
   "outputs": [
    {
     "name": "stdout",
     "output_type": "stream",
     "text": [
      "43\n",
      "56\n",
      "99\n"
     ]
    }
   ],
   "source": [
    "num1= int(input())\n",
    "num2 = int(input())\n",
    "sum= num1+num2\n",
    "print(sum)"
   ]
  },
  {
   "cell_type": "code",
   "execution_count": 7,
   "metadata": {},
   "outputs": [
    {
     "name": "stdout",
     "output_type": "stream",
     "text": [
      "12\n",
      "3\n",
      "18.0\n"
     ]
    }
   ],
   "source": [
    "b= int(input())\n",
    "h= int(input())\n",
    "area = 0.5*b*h\n",
    "print(area)"
   ]
  },
  {
   "cell_type": "code",
   "execution_count": 14,
   "metadata": {},
   "outputs": [
    {
     "name": "stdout",
     "output_type": "stream",
     "text": [
      "5\n",
      "6\n",
      "the valye of x after swapping: 6\n",
      "the value of y after swaping: 5\n"
     ]
    }
   ],
   "source": [
    "#Swaping two variables\n",
    "x= int(input())\n",
    "y= int(input())\n",
    "temp=x\n",
    "x=y\n",
    "y=temp\n",
    "print('the valye of x after swapping: {}'.format(x))\n",
    "print('the value of y after swaping: {}'.format(y))"
   ]
  },
  {
   "cell_type": "code",
   "execution_count": 33,
   "metadata": {},
   "outputs": [
    {
     "name": "stdout",
     "output_type": "stream",
     "text": [
      "Enter a number5\n",
      "5 is an odd number\n"
     ]
    }
   ],
   "source": [
    "#program to find the number is even or odd\n",
    "num= int(input(\"Enter a number\"))\n",
    "if num%2==0:\n",
    "    print(num,\"is an even number\")\n",
    "else:\n",
    "    print(num,\"is an odd number\")"
   ]
  },
  {
   "cell_type": "code",
   "execution_count": 56,
   "metadata": {},
   "outputs": [
    {
     "name": "stdout",
     "output_type": "stream",
     "text": [
      "Enter year : 2019\n",
      "this isnt leap year\n"
     ]
    }
   ],
   "source": [
    "#program to check whether the year is leap year or not\n",
    "year= int(input(\"Enter year : \"))\n",
    "if (year%4==0 and year%100!=0) or year%400==0:\n",
    "    print(year,\" is a leap year\")\n",
    "elif (year%100==0): \n",
    "    print(year,\"is not a leap year\")\n",
    "else:\n",
    "    print(\"this isnt leap year\")"
   ]
  },
  {
   "cell_type": "code",
   "execution_count": 46,
   "metadata": {},
   "outputs": [
    {
     "data": {
      "text/plain": [
       "['newdata',\n",
       " 'Line2',\n",
       " 'Line3Line2',\n",
       " 'Line3This is .......................Hey!This day..Python Programminghi']"
      ]
     },
     "execution_count": 46,
     "metadata": {},
     "output_type": "execute_result"
    }
   ],
   "source": [
    "def readFileIntoList(filepath):\n",
    "    with open(filepath,'r') as f:\n",
    "        filedata= f.read()\n",
    "        lines= filedata.split('\\n')\n",
    "    return lines\n",
    "\n",
    "filepath='DataFiles/data.txt'\n",
    "readFileIntoList(filepath)\n",
    "    "
   ]
  },
  {
   "cell_type": "code",
   "execution_count": 63,
   "metadata": {},
   "outputs": [
    {
     "name": "stdout",
     "output_type": "stream",
     "text": [
      "Enter a number : 7\n",
      "5040\n"
     ]
    }
   ],
   "source": [
    "#finding factorial\n",
    "def Factorial(num):\n",
    "    if num==1:\n",
    "        return num\n",
    "    else:\n",
    "        return num* Factorial(num-1)\n",
    "    \n",
    "num= int(input(\"Enter a number : \"))\n",
    "if num<0:\n",
    "    print(num,\" Factorial cannot be found for negative values\")\n",
    "elif num==0:\n",
    "    print(num,\" Factorial of zero is 1\")\n",
    "else:\n",
    "    print (Factorial(num))\n",
    "               "
   ]
  },
  {
   "cell_type": "code",
   "execution_count": 73,
   "metadata": {},
   "outputs": [
    {
     "name": "stdout",
     "output_type": "stream",
     "text": [
      "Enter a number : 100\n",
      "Enter a number : 121\n",
      "Enter a number : 156\n",
      "156 num3 is greater\n"
     ]
    }
   ],
   "source": [
    "#program to find the largest number\n",
    "num1= int(input(\"Enter a number : \"))\n",
    "num2= int(input(\"Enter a number : \"))\n",
    "num3= int(input(\"Enter a number : \"))\n",
    "if (num1>num2) and (num1>num3):\n",
    "    print(num1,\"num1 is greater\")\n",
    "elif (num2>num) and (num2>num3):\n",
    "    print(num2,\"num2 is greater\")\n",
    "else:\n",
    "    print(num3,\"num3 is greater\")\n",
    "    "
   ]
  },
  {
   "cell_type": "code",
   "execution_count": 80,
   "metadata": {},
   "outputs": [
    {
     "name": "stdout",
     "output_type": "stream",
     "text": [
      "enter table : 5\n",
      "5 * 0 = 0\n",
      "5 * 1 = 5\n",
      "5 * 2 = 10\n",
      "5 * 3 = 15\n",
      "5 * 4 = 20\n",
      "5 * 5 = 25\n",
      "5 * 6 = 30\n",
      "5 * 7 = 35\n",
      "5 * 8 = 40\n",
      "5 * 9 = 45\n",
      "5 * 10 = 50\n",
      "5 * 11 = 55\n",
      "5 * 12 = 60\n"
     ]
    }
   ],
   "source": [
    "#program to display the multiplication table\n",
    "num= int(input(\"enter table : \"))\n",
    "for i in range(0,13):\n",
    "    print(num,'*',i,'=', num*i)"
   ]
  },
  {
   "cell_type": "code",
   "execution_count": 2,
   "metadata": {},
   "outputs": [
    {
     "data": {
      "text/plain": [
       "1"
      ]
     },
     "execution_count": 2,
     "metadata": {},
     "output_type": "execute_result"
    }
   ],
   "source": [
    "def feb(n,a,b):\n",
    "    if n==0:\n",
    "        return 0\n",
    "    elif n==1:\n",
    "        return 1\n",
    "    else:\n",
    "        return feb(n-1,b,a+b)\n",
    "feb(5,0,1)"
   ]
  },
  {
   "cell_type": "code",
   "execution_count": 6,
   "metadata": {
    "scrolled": true
   },
   "outputs": [
    {
     "name": "stdout",
     "output_type": "stream",
     "text": [
      "Enter the fibonacci sequence upto: 5\n",
      "0\n",
      "1\n",
      "1\n",
      "2\n",
      "3\n"
     ]
    }
   ],
   "source": [
    "#fiboncacci sequence\n",
    "n=int(input(\"Enter the fibonacci sequence upto: \"))\n",
    "for i in range(0,n,1):\n",
    "    if i==0:\n",
    "        a=0\n",
    "        print(a)\n",
    "    elif i==1:\n",
    "        b=1\n",
    "        print(b)\n",
    "    else:\n",
    "        temp=a\n",
    "        a=b\n",
    "        b=b+temp\n",
    "        print(b)"
   ]
  },
  {
   "cell_type": "code",
   "execution_count": null,
   "metadata": {},
   "outputs": [],
   "source": [
    "# Contacts Application\n",
    "   # add,Search,List,Modify,Delete contacts\n",
    "\n",
    "    \n",
    "# Find and Replace Application\n",
    "    # count the total number of occurances of a word\n",
    "    # if word is existing (Boolean function)\n",
    "    # Replace all occurances of a word with another word\n",
    "    \n",
    "# Marks Analysis Application\n",
    "    # % of students passed \n",
    "    # % of failed students\n",
    "    # % of students with distinction\n",
    "    "
   ]
  },
  {
   "cell_type": "code",
   "execution_count": 7,
   "metadata": {},
   "outputs": [],
   "source": [
    "#function to generate marks data for n students\n",
    "\n",
    "from random import randint\n",
    "def generateMarks(n,lb,ub):\n",
    "    with open('DataFiles/marks.txt','w') as f:\n",
    "        for i in range(0,n):\n",
    "            r= randint(lb,ub)\n",
    "            f.write(str(r) +'\\n')\n",
    "    return\n",
    "\n",
    "generateMarks(10000,0,1000)"
   ]
  },
  {
   "cell_type": "code",
   "execution_count": 6,
   "metadata": {},
   "outputs": [
    {
     "name": "stdout",
     "output_type": "stream",
     "text": [
      "123\n",
      "6\n"
     ]
    }
   ],
   "source": [
    "#program to print the sum of the digits for the given input\n",
    "def sumOfDigits(N):\n",
    "    s=0\n",
    "    while (N>0):\n",
    "        r= N%10\n",
    "        s=s+r\n",
    "        N=N//10\n",
    "    print(s)\n",
    "\n",
    "N= int(input())\n",
    "sumOfDigits(N)"
   ]
  },
  {
   "cell_type": "code",
   "execution_count": null,
   "metadata": {},
   "outputs": [],
   "source": []
  }
 ],
 "metadata": {
  "kernelspec": {
   "display_name": "Python 3",
   "language": "python",
   "name": "python3"
  },
  "language_info": {
   "codemirror_mode": {
    "name": "ipython",
    "version": 3
   },
   "file_extension": ".py",
   "mimetype": "text/x-python",
   "name": "python",
   "nbconvert_exporter": "python",
   "pygments_lexer": "ipython3",
   "version": "3.7.3"
  }
 },
 "nbformat": 4,
 "nbformat_minor": 2
}
