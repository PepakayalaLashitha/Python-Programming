{
 "cells": [
  {
   "cell_type": "code",
   "execution_count": 1,
   "metadata": {},
   "outputs": [
    {
     "name": "stdout",
     "output_type": "stream",
     "text": [
      "    August 2020\n",
      "Mo Tu We Th Fr Sa Su\n",
      "                1  2\n",
      " 3  4  5  6  7  8  9\n",
      "10 11 12 13 14 15 16\n",
      "17 18 19 20 21 22 23\n",
      "24 25 26 27 28 29 30\n",
      "31\n",
      "\n"
     ]
    }
   ],
   "source": [
    "import calendar\n",
    "year= 2020\n",
    "month= 8\n",
    "print(calendar.month(year, month))"
   ]
  },
  {
   "cell_type": "code",
   "execution_count": 5,
   "metadata": {},
   "outputs": [
    {
     "name": "stdout",
     "output_type": "stream",
     "text": [
      "Hey Lashitha ||  You are going to write a practise test\n"
     ]
    }
   ],
   "source": [
    "print(\"Hey Lashitha\", \"||\", end=\" \")\n",
    "print(\" You are going to write a practise test\")"
   ]
  },
  {
   "cell_type": "code",
   "execution_count": 12,
   "metadata": {},
   "outputs": [
    {
     "name": "stdout",
     "output_type": "stream",
     "text": [
      "Lashitha Vishnu Priya\n",
      "Vishnu Murthy\n",
      "Rajini Devi\n",
      "\"Family is Everything!\"\n",
      "\n"
     ]
    }
   ],
   "source": [
    "def readfile(filepath):\n",
    "    with open(filepath, 'r') as f:\n",
    "        filedata= f.read()\n",
    "    return filedata\n",
    "\n",
    "filepath='DataFiles/Data.txt'\n",
    "print(readfile(filepath))"
   ]
  },
  {
   "cell_type": "code",
   "execution_count": 13,
   "metadata": {},
   "outputs": [
    {
     "name": "stdout",
     "output_type": "stream",
     "text": [
      "['Lashitha', 'Vishnu', 'Priya', 'Vishnu', 'Murthy', 'Rajini', 'Devi', '\"Family', 'is', 'Everything!\"']\n"
     ]
    }
   ],
   "source": [
    "def readfilesintolist(filepath):\n",
    "    with open(filepath,'r') as f:\n",
    "        filedata= f.read()\n",
    "        lines= filedata.split()\n",
    "    return lines\n",
    "\n",
    "filepath='DataFiles/Data.txt'\n",
    "print(readfilesintolist(filepath))"
   ]
  },
  {
   "cell_type": "code",
   "execution_count": 16,
   "metadata": {},
   "outputs": [
    {
     "data": {
      "text/plain": [
       "72"
      ]
     },
     "execution_count": 16,
     "metadata": {},
     "output_type": "execute_result"
    }
   ],
   "source": [
    "def countlines(filepath):\n",
    "    count= len(readfile(filepath))\n",
    "    return count\n",
    "filepath='DataFiles/Data.txt'\n",
    "countlines(filepath)"
   ]
  },
  {
   "cell_type": "code",
   "execution_count": 17,
   "metadata": {},
   "outputs": [
    {
     "data": {
      "text/plain": [
       "10"
      ]
     },
     "execution_count": 17,
     "metadata": {},
     "output_type": "execute_result"
    }
   ],
   "source": [
    "def charcount(filepath):\n",
    "    charcount= len(readfilesintolist(filepath))\n",
    "    return charcount\n",
    "\n",
    "filepath='DataFiles/Data.txt'\n",
    "charcount(filepath)\n",
    "\n"
   ]
  },
  {
   "cell_type": "code",
   "execution_count": 20,
   "metadata": {},
   "outputs": [
    {
     "name": "stdout",
     "output_type": "stream",
     "text": [
      "0 1 2 3 4 5 6 7 8 9 10 11 12 13 14 15 16 17 18 19 20 21\n"
     ]
    }
   ],
   "source": [
    "def nnaturalnumbers(n):\n",
    "    counter=0\n",
    "    while counter<=n:\n",
    "        print(counter, end=\" \")\n",
    "        counter= counter+1\n",
    "    return counter\n",
    "\n",
    "print(nnaturalnumbers(20))"
   ]
  },
  {
   "cell_type": "code",
   "execution_count": 30,
   "metadata": {},
   "outputs": [
    {
     "name": "stdout",
     "output_type": "stream",
     "text": [
      "True\n"
     ]
    }
   ],
   "source": [
    "def checkprime(n):\n",
    "    if n<2:\n",
    "        return False\n",
    "    for i in range(2,n//n+1):\n",
    "        if n%2==0:\n",
    "            return False\n",
    "    return True\n",
    "print(checkprime(7))"
   ]
  },
  {
   "cell_type": "code",
   "execution_count": 37,
   "metadata": {},
   "outputs": [
    {
     "name": "stdout",
     "output_type": "stream",
     "text": [
      "Fibonocci sequence upto 5 :\n",
      "0\n",
      "0, 1, 1, 2, 3, "
     ]
    }
   ],
   "source": [
    "nterms=5\n",
    "n1=0\n",
    "n2=1\n",
    "count=0\n",
    "if nterms<1:\n",
    "    print(\"Enter positive integers\")\n",
    "elif nterms==1:\n",
    "    print(\"Fibonocci sequence upto\", nterms, \":\")\n",
    "else:\n",
    "    print(\"Fibonocci sequence upto\", nterms, \":\")\n",
    "    print(n1)\n",
    "    while count<nterms:\n",
    "        print(n1, end=\", \")\n",
    "        nth= n1+n2\n",
    "        n1=n2\n",
    "        n2=nth\n",
    "        count+=1\n",
    "    "
   ]
  },
  {
   "cell_type": "code",
   "execution_count": null,
   "metadata": {},
   "outputs": [],
   "source": []
  }
 ],
 "metadata": {
  "kernelspec": {
   "display_name": "Python 3",
   "language": "python",
   "name": "python3"
  },
  "language_info": {
   "codemirror_mode": {
    "name": "ipython",
    "version": 3
   },
   "file_extension": ".py",
   "mimetype": "text/x-python",
   "name": "python",
   "nbconvert_exporter": "python",
   "pygments_lexer": "ipython3",
   "version": "3.7.3"
  }
 },
 "nbformat": 4,
 "nbformat_minor": 2
}
