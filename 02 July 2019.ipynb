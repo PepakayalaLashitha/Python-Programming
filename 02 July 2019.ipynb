{
 "cells": [
  {
   "cell_type": "code",
   "execution_count": 8,
   "metadata": {},
   "outputs": [
    {
     "name": "stdout",
     "output_type": "stream",
     "text": [
      "Enter first number : 1234567\n",
      "Enter second number : 567890\n",
      "1802457\n"
     ]
    }
   ],
   "source": [
    "num1= int(input(\"Enter first number : \"))\n",
    "num2= int(input(\"Enter second number : \"))\n",
    "sum= num1+num2\n",
    "print(sum)"
   ]
  },
  {
   "cell_type": "code",
   "execution_count": 13,
   "metadata": {},
   "outputs": [
    {
     "name": "stdout",
     "output_type": "stream",
     "text": [
      " Hi !||Lashitha Vishnu Priya\n"
     ]
    }
   ],
   "source": [
    "print(\" Hi\", \"!\", end=\"||\")\n",
    "print(\"Lashitha Vishnu Priya\")"
   ]
  },
  {
   "cell_type": "code",
   "execution_count": 11,
   "metadata": {},
   "outputs": [
    {
     "name": "stdout",
     "output_type": "stream",
     "text": [
      "Enter a number : 78\n",
      "78  is an even number\n"
     ]
    }
   ],
   "source": [
    "num= int(input(\"Enter a number : \"))\n",
    "if num%2==0:\n",
    "    print(num,\" is an even number\")\n",
    "else:\n",
    "    print(num,\" is an odd number\")"
   ]
  },
  {
   "cell_type": "code",
   "execution_count": 33,
   "metadata": {},
   "outputs": [
    {
     "name": "stdout",
     "output_type": "stream",
     "text": [
      "Enter a number : 3\n",
      "3  is a prime number\n"
     ]
    }
   ],
   "source": [
    "num= int(input(\"Enter a number : \"))\n",
    "if num>1:\n",
    "    for i in range(2,num):\n",
    "        if num%i ==0:\n",
    "            print(num,\" is not a prime number\")\n",
    "            break\n",
    "        else:\n",
    "            print(num,\" is a prime number\")\n",
    "            "
   ]
  },
  {
   "cell_type": "code",
   "execution_count": 2,
   "metadata": {},
   "outputs": [
    {
     "name": "stdout",
     "output_type": "stream",
     "text": [
      "Select operation\n",
      "1.Add\n",
      "2.Subtract\n",
      "3.Multiply\n",
      "4.Divide\n",
      "Enter choice(1/2/3/4) : 3\n",
      "Enter first number : 34\n",
      "Enter second number : 45\n",
      "34 * 45 = 1530\n",
      "Invalid input\n"
     ]
    }
   ],
   "source": [
    "# program to make a simple calculator\n",
    "def add(x,y):\n",
    "    return x+y\n",
    "def subtract(x,y):\n",
    "    return x-y\n",
    "def multiply(x,y):\n",
    "    return x*y\n",
    "def division(x,y):\n",
    "    return x/y\n",
    "\n",
    "print(\"Select operation\")\n",
    "print(\"1.Add\")\n",
    "print(\"2.Subtract\")\n",
    "print(\"3.Multiply\")\n",
    "print(\"4.Divide\")\n",
    "\n",
    "choice= input(\"Enter choice(1/2/3/4) : \")\n",
    "num1= int(input(\"Enter first number : \"))\n",
    "num2= int(input(\"Enter second number : \"))\n",
    "\n",
    "if choice=='1':\n",
    "    print(num1, \"+\", num2, \"=\", add(num1,num2))\n",
    "if choice=='2':\n",
    "    print(num1, \"-\", num2, \"=\", subtract(num1,num2))\n",
    "if choice=='3':\n",
    "    print(num1, \"*\", num2, \"=\", multiply(num1,num2))\n",
    "if choice=='4':\n",
    "    print(num1, \"/\", num2, \"=\", division(num1,num2))\n",
    "else:\n",
    "    print(\"Invalid input\")\n",
    "    "
   ]
  },
  {
   "cell_type": "code",
   "execution_count": null,
   "metadata": {},
   "outputs": [],
   "source": [
    "#program to find the factorial of a number\n",
    "\n",
    "def Factorial(num):\n",
    "    if num==1:\n",
    "        return num\n",
    "    else:\n",
    "        return num* Factorial(num-1)\n",
    "\n",
    "num= int(input(\"Enter a number : \"))\n",
    "if num<1:\n",
    "    print(num, \"Factorial cannot be found for negative values\")\n",
    "elif num==0:\n",
    "    print(\"Factorial of zero is 1\")\n",
    "else:\n",
    "    print(Factorial(num))\n",
    "\n",
    "    "
   ]
  },
  {
   "cell_type": "code",
   "execution_count": 10,
   "metadata": {},
   "outputs": [
    {
     "name": "stdout",
     "output_type": "stream",
     "text": [
      "4.0\n"
     ]
    }
   ],
   "source": [
    "import math\n",
    "print(math.sqrt(16))"
   ]
  },
  {
   "cell_type": "code",
   "execution_count": 20,
   "metadata": {},
   "outputs": [
    {
     "name": "stdout",
     "output_type": "stream",
     "text": [
      "Enter first number : 34\n",
      "Enter second number : 56\n",
      "the value of n1 after swapping: 56\n",
      "the value of n2 after swapping: 34\n"
     ]
    }
   ],
   "source": [
    "# program to swap numbers\n",
    "\n",
    "n1= int(input(\"Enter first number : \"))\n",
    "n2= int(input(\"Enter second number : \"))\n",
    "temp= n1\n",
    "n1=n2\n",
    "n2= temp\n",
    "print('the value of n1 after swapping: {}'.format(n1))\n",
    "print('the value of n2 after swapping: {}'.format(n2))\n",
    "\n"
   ]
  },
  {
   "cell_type": "code",
   "execution_count": 36,
   "metadata": {},
   "outputs": [
    {
     "name": "stdout",
     "output_type": "stream",
     "text": [
      "60\n"
     ]
    }
   ],
   "source": [
    "# program to print any random number\n",
    "\n",
    "import random\n",
    "print(random.randint(0,100))"
   ]
  },
  {
   "cell_type": "code",
   "execution_count": 40,
   "metadata": {},
   "outputs": [
    {
     "name": "stdout",
     "output_type": "stream",
     "text": [
      " Enter a number : 5\n",
      "5  is positive number\n"
     ]
    }
   ],
   "source": [
    "# program to check a number is positive, negative or zero\n",
    "\n",
    "num= int(input(\" Enter a number : \"))\n",
    "if num<0:\n",
    "    print(num,\" is negative\")\n",
    "elif num==0:\n",
    "    print(\"Zero\")\n",
    "else:\n",
    "    print(num,\" is positive number\")"
   ]
  },
  {
   "cell_type": "code",
   "execution_count": 49,
   "metadata": {},
   "outputs": [
    {
     "name": "stdout",
     "output_type": "stream",
     "text": [
      "Enter year : 2017\n",
      "2017  is not a Leap year\n"
     ]
    }
   ],
   "source": [
    "# Leap year program\n",
    "year= int(input(\"Enter year : \"))\n",
    "if (year%4==0 and year%100!=0) or (year%400==0):\n",
    "    print(year, \" is a Leap year\")\n",
    "else:\n",
    "    print(year, \" is not a Leap year\")"
   ]
  },
  {
   "cell_type": "code",
   "execution_count": 54,
   "metadata": {},
   "outputs": [
    {
     "name": "stdout",
     "output_type": "stream",
     "text": [
      " Enter first number : 1234\n",
      " Enter second number : 456789\n",
      " Enter third number : 456789\n",
      "456789  is the greatest number\n"
     ]
    }
   ],
   "source": [
    "# Largest num program\n",
    "n1= int(input(\" Enter first number : \"))\n",
    "n2= int(input(\" Enter second number : \"))\n",
    "n3= int(input(\" Enter third number : \"))\n",
    "if n1>n2 and n1>n3:\n",
    "    print(n1,\" is the greatest number\")\n",
    "elif n2>n1 and n2>n3:\n",
    "    print(n2,\" is the greatest number\")\n",
    "else:\n",
    "    print(n3,\" is the greatest number\")"
   ]
  },
  {
   "cell_type": "code",
   "execution_count": 58,
   "metadata": {},
   "outputs": [
    {
     "name": "stdout",
     "output_type": "stream",
     "text": [
      "Enter table number : 6\n",
      "6 * 0 = 0\n",
      "6 * 1 = 6\n",
      "6 * 2 = 12\n",
      "6 * 3 = 18\n",
      "6 * 4 = 24\n",
      "6 * 5 = 30\n",
      "6 * 6 = 36\n",
      "6 * 7 = 42\n",
      "6 * 8 = 48\n",
      "6 * 9 = 54\n",
      "6 * 10 = 60\n",
      "6 * 11 = 66\n",
      "6 * 12 = 72\n"
     ]
    }
   ],
   "source": [
    "# program to print multiplication table\n",
    "num= int(input(\"Enter table number : \"))\n",
    "for i in range(0,13):\n",
    "    print(num,'*',i,'=',num*i)"
   ]
  },
  {
   "cell_type": "code",
   "execution_count": 63,
   "metadata": {},
   "outputs": [
    {
     "name": "stdout",
     "output_type": "stream",
     "text": [
      "Enter number230\n",
      "230  is a factor of 10\n"
     ]
    }
   ],
   "source": [
    "num= int(input(\"Enter number\"))\n",
    "if num%10 ==0:\n",
    "    print(num,\" is a factor of 10\")\n",
    "else:\n",
    "    print(num, \" is not a factor of 10\")"
   ]
  },
  {
   "cell_type": "code",
   "execution_count": 69,
   "metadata": {},
   "outputs": [
    {
     "name": "stdout",
     "output_type": "stream",
     "text": [
      "Enter any number : 200\n",
      "200  exists in the range\n"
     ]
    }
   ],
   "source": [
    "# program to check the numbers exists in the given range\n",
    "num= int(input(\"Enter any number : \"))\n",
    "ub=200\n",
    "lb=50\n",
    "if num>=lb and num<=ub:\n",
    "    print(num,\" exists in the range\")\n",
    "else:\n",
    "    print(num,\" doesnt exist in the range\")"
   ]
  },
  {
   "cell_type": "code",
   "execution_count": 73,
   "metadata": {},
   "outputs": [
    {
     "name": "stdout",
     "output_type": "stream",
     "text": [
      "80\n"
     ]
    }
   ],
   "source": [
    "num= 98765432109875365226464849565920947856385009876542345677654567654345678765434567\n",
    "print(len(str(num)))"
   ]
  },
  {
   "cell_type": "code",
   "execution_count": 77,
   "metadata": {},
   "outputs": [
    {
     "name": "stdout",
     "output_type": "stream",
     "text": [
      "Enter year : 1996\n",
      "31622400000000000\n"
     ]
    }
   ],
   "source": [
    "#program to print nano seconds in the given year\n",
    "year= int(input(\"Enter year : \"))\n",
    "if (year%4==0 and year%100!=0) or (year%400==0):\n",
    "    print(366*24*60*60*(10**9))\n",
    "else:\n",
    "    print(365*24*60*60*(10**9))"
   ]
  },
  {
   "cell_type": "code",
   "execution_count": 80,
   "metadata": {},
   "outputs": [
    {
     "name": "stdout",
     "output_type": "stream",
     "text": [
      "ayirP\n"
     ]
    }
   ],
   "source": [
    "# program to print reverse string\n",
    "\n",
    "def reverseString(s):\n",
    "    return s[::-1]\n",
    "\n",
    "print(reverseString(\"Priya\"))"
   ]
  },
  {
   "cell_type": "code",
   "execution_count": 81,
   "metadata": {},
   "outputs": [
    {
     "name": "stdout",
     "output_type": "stream",
     "text": [
      "iveD inijaR\n"
     ]
    }
   ],
   "source": [
    "def reverseString(s):\n",
    "    return s[::-1]\n",
    "\n",
    "print(reverseString(\"Rajini Devi\"))"
   ]
  },
  {
   "cell_type": "code",
   "execution_count": 82,
   "metadata": {},
   "outputs": [
    {
     "name": "stdout",
     "output_type": "stream",
     "text": [
      "yhtruM unhsiV\n"
     ]
    }
   ],
   "source": [
    "def reverseString(s):\n",
    "    return s[::-1]\n",
    "print(reverseString(\"Vishnu Murthy\"))"
   ]
  },
  {
   "cell_type": "code",
   "execution_count": 83,
   "metadata": {},
   "outputs": [
    {
     "name": "stdout",
     "output_type": "stream",
     "text": [
      "alayakaepeP\n"
     ]
    }
   ],
   "source": [
    "def reverseString(s):\n",
    "    return s[::-1]\n",
    "\n",
    "print(reverseString(\"Pepeakayala\"))"
   ]
  },
  {
   "cell_type": "code",
   "execution_count": 84,
   "metadata": {},
   "outputs": [
    {
     "data": {
      "text/plain": [
       "8"
      ]
     },
     "execution_count": 84,
     "metadata": {},
     "output_type": "execute_result"
    }
   ],
   "source": [
    "def countDigits(num):\n",
    "    return (len(str(num)))\n",
    "\n",
    "countDigits(\"Lashitha\")"
   ]
  },
  {
   "cell_type": "code",
   "execution_count": 85,
   "metadata": {},
   "outputs": [
    {
     "data": {
      "text/plain": [
       "10"
      ]
     },
     "execution_count": 85,
     "metadata": {},
     "output_type": "execute_result"
    }
   ],
   "source": [
    "def countdigits(num):\n",
    "    return (len(str(num)))\n",
    "\n",
    "countdigits(\"Pepakayala\")"
   ]
  },
  {
   "cell_type": "code",
   "execution_count": 2,
   "metadata": {},
   "outputs": [
    {
     "name": "stdout",
     "output_type": "stream",
     "text": [
      "0 1 2 3 4 5 6 7 8 9 10 11 12 13 14 15 16 17 18 19 20 21 22 23 24 25 26 27 28 29 30 31 32 33 34 35 36 37 38 39 40 41 42 43 44 45 46 47 48 49 50 51 52 53 54 55 56 57 58 59 60 61 62 63 64 65 66 67 68 69 70 71 72 73 74 75 76 77 78 79 80 81 82 83 84 85 86 87 88 89 90 91 92 93 94 95 96 97 98 99 100 "
     ]
    }
   ],
   "source": [
    "# program to print n natural numbers\n",
    "\n",
    "def nNaturalNumbers(n):\n",
    "    counter=0\n",
    "    while counter<=n:\n",
    "        print(counter, end=\" \")\n",
    "        counter= counter+1\n",
    "    return\n",
    "\n",
    "nNaturalNumbers(100)"
   ]
  },
  {
   "cell_type": "code",
   "execution_count": 8,
   "metadata": {},
   "outputs": [
    {
     "name": "stdout",
     "output_type": "stream",
     "text": [
      "100 99 98 97 96 95 94 93 92 91 90 89 88 87 86 85 84 83 82 81 80 79 78 77 76 75 74 73 72 71 70 69 68 67 66 65 64 63 62 61 60 59 58 57 56 55 54 53 52 51 50 49 48 47 46 45 44 43 42 41 40 39 38 37 36 35 34 33 32 31 30 29 28 27 26 25 24 23 22 21 20 19 18 17 16 15 14 13 12 11 10 9 8 7 6 5 4 3 2 1 0 "
     ]
    }
   ],
   "source": [
    "# program to print numbers in a reverse range\n",
    "\n",
    "def reverserange(a,b):\n",
    "    for i in range(b,a-1,-1):\n",
    "        print(i, end=\" \")\n",
    "    return\n",
    "reverseRange(0,100)"
   ]
  },
  {
   "cell_type": "code",
   "execution_count": 10,
   "metadata": {},
   "outputs": [
    {
     "name": "stdout",
     "output_type": "stream",
     "text": [
      "25 24 23 22 21 20 19 18 17 16 15 14 13 12 11 10 9 8 7 6 5 4 3 2 1 0 "
     ]
    }
   ],
   "source": [
    "def reverserange(start,end):\n",
    "    for value in range(end,start-1,-1):\n",
    "        print(value, end=\" \")\n",
    "    return\n",
    "reverseRange(0,25)"
   ]
  },
  {
   "cell_type": "code",
   "execution_count": 16,
   "metadata": {},
   "outputs": [
    {
     "name": "stdout",
     "output_type": "stream",
     "text": [
      "25 23 21 19 17 15 13 11 9 7 5 3 1 "
     ]
    }
   ],
   "source": [
    "def reverseodd(a,b):\n",
    "    for i in range(b,a-1,-1):\n",
    "        if i%2!=0:\n",
    "            print(i,end=\" \")\n",
    "    return\n",
    "\n",
    "reverseodd(1,26)\n",
    "    "
   ]
  },
  {
   "cell_type": "code",
   "execution_count": 22,
   "metadata": {},
   "outputs": [
    {
     "data": {
      "text/plain": [
       "731"
      ]
     },
     "execution_count": 22,
     "metadata": {},
     "output_type": "execute_result"
    }
   ],
   "source": [
    "# program to print the number of days in the given range of years\n",
    "\n",
    "def numberofdays(startyear,endyear):\n",
    "    sum=0\n",
    "    for year in range(startyear, endyear+1):\n",
    "        if (year%4==0 and year%100!=0) or (year%400==0):\n",
    "            sum= sum+366\n",
    "        else:\n",
    "            sum= sum+365\n",
    "    return sum\n",
    "\n",
    "numberofdays(2019,2020)"
   ]
  },
  {
   "cell_type": "code",
   "execution_count": 36,
   "metadata": {},
   "outputs": [
    {
     "name": "stdout",
     "output_type": "stream",
     "text": [
      "2020 2024 2028 2032 2036 2040 2044 2048 "
     ]
    }
   ],
   "source": [
    "def generateleapyear(startyear,endyear):\n",
    "     for year in range(startyear, endyear+1):\n",
    "        if (year%4==0 and year%100!=0) or (year%400==0):\n",
    "            print(year, end=\" \")\n",
    "     return \n",
    " \n",
    "generateleapyear(2020,2050)\n",
    "    "
   ]
  },
  {
   "cell_type": "code",
   "execution_count": 39,
   "metadata": {},
   "outputs": [
    {
     "data": {
      "text/plain": [
       "array([ 0,  1,  2,  3,  4,  5,  6,  7,  8,  9, 10, 11, 12, 13, 14])"
      ]
     },
     "execution_count": 39,
     "metadata": {},
     "output_type": "execute_result"
    }
   ],
   "source": [
    "import numpy as np\n",
    "li = [1,2,3, 'z']\n",
    "a = np.array(li)\n",
    "b = np.arange(15)\n",
    "b"
   ]
  },
  {
   "cell_type": "code",
   "execution_count": 43,
   "metadata": {},
   "outputs": [
    {
     "data": {
      "text/plain": [
       "1"
      ]
     },
     "execution_count": 43,
     "metadata": {},
     "output_type": "execute_result"
    }
   ],
   "source": [
    "m3= np.random.randint(0,2,size=(3,3,3,3))\n",
    "m3[2][2][2][1]"
   ]
  },
  {
   "cell_type": "code",
   "execution_count": 45,
   "metadata": {},
   "outputs": [
    {
     "data": {
      "text/plain": [
       "324"
      ]
     },
     "execution_count": 45,
     "metadata": {},
     "output_type": "execute_result"
    }
   ],
   "source": [
    "m3.ndim\n",
    "m3.size\n",
    "m3.shape\n",
    "m3.dtype\n",
    "m3.itemsize\n",
    "m3.nbytes"
   ]
  },
  {
   "cell_type": "code",
   "execution_count": 46,
   "metadata": {},
   "outputs": [
    {
     "name": "stdout",
     "output_type": "stream",
     "text": [
      "[ 0  1  2  3  4  5  6  7  8  9 10 11 12 13 14]\n"
     ]
    }
   ],
   "source": [
    "print(b)"
   ]
  },
  {
   "cell_type": "code",
   "execution_count": 48,
   "metadata": {},
   "outputs": [
    {
     "name": "stdout",
     "output_type": "stream",
     "text": [
      "Matrix M:\n",
      " [[1. 1. 1.]\n",
      " [1. 1. 1.]\n",
      " [1. 1. 1.]]\n"
     ]
    }
   ],
   "source": [
    "import numpy as np\n",
    "M= np.ones((3,3))\n",
    "print(\"Matrix M:\\n\",M)"
   ]
  },
  {
   "cell_type": "code",
   "execution_count": 3,
   "metadata": {
    "scrolled": true
   },
   "outputs": [
    {
     "name": "stdout",
     "output_type": "stream",
     "text": [
      "Matrix M:\n",
      " [[1. 1.]\n",
      " [1. 1.]]\n"
     ]
    }
   ],
   "source": [
    "import numpy as np\n",
    "M= np.ones((2,2))\n",
    "print(\"Matrix M:\\n\",M)"
   ]
  },
  {
   "cell_type": "code",
   "execution_count": 5,
   "metadata": {},
   "outputs": [
    {
     "data": {
      "text/plain": [
       "s1    15\n",
       "s2    18\n",
       "s3    12\n",
       "dtype: int64"
      ]
     },
     "execution_count": 5,
     "metadata": {},
     "output_type": "execute_result"
    }
   ],
   "source": [
    "import pandas as pd\n",
    "internal1 = {'s1':21, 's2':18, 's3':24}\n",
    "internal1 = pd.Series(internal1)\n",
    "internal2 = {'s1':15, 's2':18, 's3':12}\n",
    "internal2 = pd.Series(internal2)\n",
    "internal2"
   ]
  },
  {
   "cell_type": "code",
   "execution_count": null,
   "metadata": {},
   "outputs": [],
   "source": []
  }
 ],
 "metadata": {
  "kernelspec": {
   "display_name": "Python 3",
   "language": "python",
   "name": "python3"
  },
  "language_info": {
   "codemirror_mode": {
    "name": "ipython",
    "version": 3
   },
   "file_extension": ".py",
   "mimetype": "text/x-python",
   "name": "python",
   "nbconvert_exporter": "python",
   "pygments_lexer": "ipython3",
   "version": "3.7.3"
  }
 },
 "nbformat": 4,
 "nbformat_minor": 2
}
