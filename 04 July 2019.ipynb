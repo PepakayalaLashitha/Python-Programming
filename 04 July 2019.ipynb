{
 "cells": [
  {
   "cell_type": "code",
   "execution_count": 2,
   "metadata": {},
   "outputs": [
    {
     "name": "stdout",
     "output_type": "stream",
     "text": [
      "Lashitha Vishnu Priya\n",
      "Vishnu Murthy\n",
      "Rajini Devi\n",
      "\"Family is Everything!\"\n",
      "\n"
     ]
    }
   ],
   "source": [
    "# Program to read a file\n",
    "\n",
    "def readfile(filepath):\n",
    "    with open(filepath, 'r') as f:\n",
    "        filedata= f. read()\n",
    "    return filedata\n",
    "\n",
    "filepath= 'DataFiles/data.txt'\n",
    "print (readfile(filepath))"
   ]
  },
  {
   "cell_type": "code",
   "execution_count": 3,
   "metadata": {},
   "outputs": [
    {
     "name": "stdout",
     "output_type": "stream",
     "text": [
      "['Lashitha Vishnu Priya', 'Vishnu Murthy', 'Rajini Devi', '\"Family is Everything!\"', '']\n"
     ]
    }
   ],
   "source": [
    "# program to read a file into a list of lines\n",
    "\n",
    "def readfileintolist(filepath):\n",
    "    with open(filepath,'r') as f:\n",
    "        filedata= f.read()\n",
    "        lines= filedata.split('\\n')\n",
    "    return lines\n",
    "\n",
    "filepath= 'DataFiles/data.txt'\n",
    "print (readfileintolist(filepath))"
   ]
  },
  {
   "cell_type": "code",
   "execution_count": 5,
   "metadata": {},
   "outputs": [
    {
     "data": {
      "text/plain": [
       "5"
      ]
     },
     "execution_count": 5,
     "metadata": {},
     "output_type": "execute_result"
    }
   ],
   "source": [
    "# program to count number of lines in a file\n",
    "\n",
    "def countlines(filepath):\n",
    "    count= len(readfileintolist(filepath))\n",
    "    return count\n",
    "\n",
    "countlines(filepath)"
   ]
  },
  {
   "cell_type": "code",
   "execution_count": 6,
   "metadata": {},
   "outputs": [
    {
     "data": {
      "text/plain": [
       "72"
      ]
     },
     "execution_count": 6,
     "metadata": {},
     "output_type": "execute_result"
    }
   ],
   "source": [
    "# program to count number of charecters in a file\n",
    "\n",
    "def charcount(filepath):\n",
    "    count= len(readfile(filepath))\n",
    "    return count\n",
    "\n",
    "charcount(filepath)"
   ]
  },
  {
   "cell_type": "code",
   "execution_count": 8,
   "metadata": {},
   "outputs": [
    {
     "data": {
      "text/plain": [
       "{1, 2, 3, 4, 5, 6, 7, 8, 9}"
      ]
     },
     "execution_count": 8,
     "metadata": {},
     "output_type": "execute_result"
    }
   ],
   "source": [
    "a= {1,2,3,4,5}\n",
    "b= {9,8,7,6}\n",
    "a.union(b)"
   ]
  },
  {
   "cell_type": "code",
   "execution_count": 9,
   "metadata": {},
   "outputs": [
    {
     "data": {
      "text/plain": [
       "{6, 7}"
      ]
     },
     "execution_count": 9,
     "metadata": {},
     "output_type": "execute_result"
    }
   ],
   "source": [
    "a= {1,2,3,4,5,6,7}\n",
    "b= {9,8,7,6}\n",
    "a.intersection(b)"
   ]
  },
  {
   "cell_type": "code",
   "execution_count": 21,
   "metadata": {},
   "outputs": [
    {
     "name": "stdout",
     "output_type": "stream",
     "text": [
      "0 1 2 3 4 5 6 7 8 9 10 11 12 13 14 15 16 17 18 19 20 None\n"
     ]
    }
   ],
   "source": [
    "def nnaturalnumbers(n):\n",
    "    counter=0\n",
    "    while counter<=n:\n",
    "        print(counter, end= \" \")\n",
    "        counter= counter+1\n",
    "    return\n",
    "\n",
    "print(nnaturalnumbers(20))"
   ]
  },
  {
   "cell_type": "code",
   "execution_count": 22,
   "metadata": {},
   "outputs": [
    {
     "name": "stdout",
     "output_type": "stream",
     "text": [
      "8\n",
      "512\n",
      "134217728\n",
      "2417851639229258349412352\n",
      "14134776518227074636666380005943348126619871175004951664972849610340958208\n"
     ]
    },
    {
     "data": {
      "text/plain": [
       "2824013958708217496949108842204627863351353911851577524683401930862693830361198499905873920995229996970897865498283996578123296865878390947626553088486946106430796091482716120572632072492703527723757359478834530365734912"
      ]
     },
     "execution_count": 22,
     "metadata": {},
     "output_type": "execute_result"
    }
   ],
   "source": [
    "def gen():\n",
    "    n = 2\n",
    "    while True:\n",
    "        n **= 3\n",
    "        yield n\n",
    "\n",
    "a = gen()\n",
    "\n",
    "for i in range(5):\n",
    "    print(next(a))\n",
    "    \n",
    "next(a)"
   ]
  },
  {
   "cell_type": "code",
   "execution_count": 23,
   "metadata": {},
   "outputs": [
    {
     "name": "stdout",
     "output_type": "stream",
     "text": [
      " Hey !||Lashitha\n"
     ]
    }
   ],
   "source": [
    "print(\" Hey\", \"!\", end= \"||\")\n",
    "print(\"Lashitha\")"
   ]
  },
  {
   "cell_type": "code",
   "execution_count": 24,
   "metadata": {},
   "outputs": [
    {
     "data": {
      "text/plain": [
       "[12167, 39304, 91125, 175616, 300763, 474552]"
      ]
     },
     "execution_count": 24,
     "metadata": {},
     "output_type": "execute_result"
    }
   ],
   "source": [
    "def cube(n):\n",
    "    return n **3\n",
    "li= ['23', '34', '45', '56', '67','78']\n",
    "li2=list(map(int,li))\n",
    "tuple(map(float,li2))\n",
    "numbers= [int(i) for i in li]\n",
    "[cube(i) for i in numbers]"
   ]
  },
  {
   "cell_type": "code",
   "execution_count": 31,
   "metadata": {},
   "outputs": [
    {
     "data": {
      "text/plain": [
       "4"
      ]
     },
     "execution_count": 31,
     "metadata": {},
     "output_type": "execute_result"
    }
   ],
   "source": [
    "def readmarkslist(filepath):\n",
    "    with open(filepath,'r') as f:\n",
    "        filedata= f.read().split()\n",
    "    return list(map(int, filedata))\n",
    "\n",
    "def classaverage(filepath):\n",
    "    markslist= readmarkslist(filepath)\n",
    "    return sum(markslist)// len(markslist)\n",
    "\n",
    "filepath= 'DataFiles/marks.txt'\n",
    "classaverage(filepath)"
   ]
  },
  {
   "cell_type": "code",
   "execution_count": 3,
   "metadata": {},
   "outputs": [
    {
     "data": {
      "text/html": [
       "<div>\n",
       "<style scoped>\n",
       "    .dataframe tbody tr th:only-of-type {\n",
       "        vertical-align: middle;\n",
       "    }\n",
       "\n",
       "    .dataframe tbody tr th {\n",
       "        vertical-align: top;\n",
       "    }\n",
       "\n",
       "    .dataframe thead th {\n",
       "        text-align: right;\n",
       "    }\n",
       "</style>\n",
       "<table border=\"1\" class=\"dataframe\">\n",
       "  <thead>\n",
       "    <tr style=\"text-align: right;\">\n",
       "      <th></th>\n",
       "      <th>GEOID</th>\n",
       "      <th>State</th>\n",
       "      <th>2005</th>\n",
       "      <th>2006</th>\n",
       "      <th>2007</th>\n",
       "      <th>2008</th>\n",
       "      <th>2009</th>\n",
       "      <th>2010</th>\n",
       "      <th>2011</th>\n",
       "      <th>2012</th>\n",
       "      <th>2013</th>\n",
       "    </tr>\n",
       "  </thead>\n",
       "  <tbody>\n",
       "    <tr>\n",
       "      <th>0</th>\n",
       "      <td>04000US01</td>\n",
       "      <td>Alabama</td>\n",
       "      <td>37150</td>\n",
       "      <td>37952</td>\n",
       "      <td>42212</td>\n",
       "      <td>44476</td>\n",
       "      <td>39980</td>\n",
       "      <td>40933</td>\n",
       "      <td>42590</td>\n",
       "      <td>43464</td>\n",
       "      <td>41381</td>\n",
       "    </tr>\n",
       "    <tr>\n",
       "      <th>1</th>\n",
       "      <td>04000US02</td>\n",
       "      <td>Alaska</td>\n",
       "      <td>55891</td>\n",
       "      <td>56418</td>\n",
       "      <td>62993</td>\n",
       "      <td>63989</td>\n",
       "      <td>61604</td>\n",
       "      <td>57848</td>\n",
       "      <td>57431</td>\n",
       "      <td>63648</td>\n",
       "      <td>61137</td>\n",
       "    </tr>\n",
       "    <tr>\n",
       "      <th>2</th>\n",
       "      <td>04000US04</td>\n",
       "      <td>Arizona</td>\n",
       "      <td>45245</td>\n",
       "      <td>46657</td>\n",
       "      <td>62993</td>\n",
       "      <td>46914</td>\n",
       "      <td>45739</td>\n",
       "      <td>46896</td>\n",
       "      <td>48621</td>\n",
       "      <td>47044</td>\n",
       "      <td>50602</td>\n",
       "    </tr>\n",
       "    <tr>\n",
       "      <th>3</th>\n",
       "      <td>04000US05</td>\n",
       "      <td>Arkansas</td>\n",
       "      <td>36658</td>\n",
       "      <td>37057</td>\n",
       "      <td>40795</td>\n",
       "      <td>39586</td>\n",
       "      <td>36538</td>\n",
       "      <td>38587</td>\n",
       "      <td>41302</td>\n",
       "      <td>39018</td>\n",
       "      <td>39919</td>\n",
       "    </tr>\n",
       "    <tr>\n",
       "      <th>4</th>\n",
       "      <td>04000US06</td>\n",
       "      <td>California</td>\n",
       "      <td>51755</td>\n",
       "      <td>55319</td>\n",
       "      <td>55734</td>\n",
       "      <td>57014</td>\n",
       "      <td>56134</td>\n",
       "      <td>54283</td>\n",
       "      <td>53367</td>\n",
       "      <td>57020</td>\n",
       "      <td>57528</td>\n",
       "    </tr>\n",
       "  </tbody>\n",
       "</table>\n",
       "</div>"
      ],
      "text/plain": [
       "       GEOID       State   2005   2006   2007   2008   2009   2010   2011  \\\n",
       "0  04000US01     Alabama  37150  37952  42212  44476  39980  40933  42590   \n",
       "1  04000US02      Alaska  55891  56418  62993  63989  61604  57848  57431   \n",
       "2  04000US04     Arizona  45245  46657  62993  46914  45739  46896  48621   \n",
       "3  04000US05    Arkansas  36658  37057  40795  39586  36538  38587  41302   \n",
       "4  04000US06  California  51755  55319  55734  57014  56134  54283  53367   \n",
       "\n",
       "    2012   2013  \n",
       "0  43464  41381  \n",
       "1  63648  61137  \n",
       "2  47044  50602  \n",
       "3  39018  39919  \n",
       "4  57020  57528  "
      ]
     },
     "execution_count": 3,
     "metadata": {},
     "output_type": "execute_result"
    }
   ],
   "source": [
    "import pandas as pd\n",
    "filepath= 'DataFiles/Income.csv'\n",
    "incomedf= pd. read_csv(filepath)\n",
    "incomedf"
   ]
  },
  {
   "cell_type": "code",
   "execution_count": 4,
   "metadata": {},
   "outputs": [
    {
     "name": "stdout",
     "output_type": "stream",
     "text": [
      "Alabama : 41381\n",
      "Alaska : 61137\n",
      "Arizona : 50602\n",
      "Arkansas : 39919\n",
      "California : 57528\n"
     ]
    }
   ],
   "source": [
    "for row in incomedf.values:\n",
    "    print(row[1], ':', row[-1])"
   ]
  },
  {
   "cell_type": "code",
   "execution_count": 5,
   "metadata": {},
   "outputs": [
    {
     "data": {
      "text/plain": [
       "48967.88888888889"
      ]
     },
     "execution_count": 5,
     "metadata": {},
     "output_type": "execute_result"
    }
   ],
   "source": [
    "sum=0\n",
    "for i in range(2,11):\n",
    "    sum+= incomedf.values[2][i]\n",
    "sum/len(incomedf.values[2][2:])"
   ]
  },
  {
   "cell_type": "code",
   "execution_count": 46,
   "metadata": {},
   "outputs": [
    {
     "name": "stdout",
     "output_type": "stream",
     "text": [
      "          AA  Birthday Month     onewordtodescribe\n",
      "0       Sanju            May            Crazy twin\n",
      "1    Maneesha       November           Girl Friend\n",
      "2        Anju            May                Bhabhi\n",
      "3         Sam          April         Silent killer\n",
      "4  Prathyusha            May  address leni manishi\n",
      "5       Bindu            May           Dirty Mouth\n"
     ]
    }
   ],
   "source": [
    "dict= {\"   AA \": [\"Sanju\", \"Maneesha\", \"Anju\", \"Sam\", \"Prathyusha\", \"Bindu\"],\n",
    "    \"Birthday Month\": [\"May\", \"November\", \"May\", \"April\", \"May\", \"May\"],\n",
    "      \"onewordtodescribe\": [\"Crazy twin\", \"Girl Friend\", \"Bhabhi\",\"Silent killer\",\"address leni manishi\", \"Dirty Mouth\"]}\n",
    "\n",
    "import pandas as pd\n",
    "brics= pd.DataFrame(dict)\n",
    "print(brics)"
   ]
  },
  {
   "cell_type": "code",
   "execution_count": 48,
   "metadata": {},
   "outputs": [
    {
     "name": "stdout",
     "output_type": "stream",
     "text": [
      " Pandas version is 0.24.2\n",
      "pd.Categorical\n",
      "pd.CategoricalDtype\n",
      "pd.CategoricalIndex\n",
      "pd.DataFrame\n",
      "pd.DateOffset\n",
      "pd.DatetimeIndex\n",
      "pd.DatetimeTZDtype\n",
      "pd.ExcelFile\n",
      "pd.ExcelWriter\n",
      "pd.Float64Index\n",
      "pd.Grouper\n",
      "pd.HDFStore\n",
      "pd.Index\n",
      "pd.IndexSlice\n",
      "pd.Int16Dtype\n",
      "pd.Int32Dtype\n",
      "pd.Int64Dtype\n",
      "pd.Int64Index\n",
      "pd.Int8Dtype\n",
      "pd.Interval\n",
      "pd.IntervalDtype\n",
      "pd.IntervalIndex\n",
      "pd.MultiIndex\n",
      "pd.NaT\n",
      "pd.Panel\n",
      "pd.Period\n",
      "pd.PeriodDtype\n",
      "pd.PeriodIndex\n",
      "pd.RangeIndex\n",
      "pd.Series\n",
      "pd.SparseArray\n",
      "pd.SparseDataFrame\n",
      "pd.SparseDtype\n",
      "pd.SparseSeries\n",
      "pd.TimeGrouper\n",
      "pd.Timedelta\n",
      "pd.TimedeltaIndex\n",
      "pd.Timestamp\n",
      "pd.UInt16Dtype\n",
      "pd.UInt32Dtype\n",
      "pd.UInt64Dtype\n",
      "pd.UInt64Index\n",
      "pd.UInt8Dtype\n",
      "pd.__builtins__\n",
      "pd.__cached__\n",
      "pd.__doc__\n",
      "pd.__docformat__\n",
      "pd.__file__\n",
      "pd.__git_version__\n",
      "pd.__loader__\n",
      "pd.__name__\n",
      "pd.__package__\n",
      "pd.__path__\n",
      "pd.__spec__\n",
      "pd.__version__\n",
      "pd._hashtable\n",
      "pd._lib\n",
      "pd._libs\n",
      "pd._np_version_under1p13\n",
      "pd._np_version_under1p14\n",
      "pd._np_version_under1p15\n",
      "pd._np_version_under1p16\n",
      "pd._np_version_under1p17\n",
      "pd._tslib\n",
      "pd._version\n",
      "pd.api\n",
      "pd.array\n",
      "pd.arrays\n",
      "pd.bdate_range\n",
      "pd.compat\n",
      "pd.concat\n",
      "pd.core\n",
      "pd.crosstab\n",
      "pd.cut\n",
      "pd.date_range\n",
      "pd.datetime\n",
      "pd.describe_option\n",
      "pd.errors\n",
      "pd.eval\n",
      "pd.factorize\n",
      "pd.get_dummies\n",
      "pd.get_option\n",
      "pd.infer_freq\n",
      "pd.interval_range\n",
      "pd.io\n",
      "pd.isna\n",
      "pd.isnull\n",
      "pd.lreshape\n",
      "pd.melt\n",
      "pd.merge\n",
      "pd.merge_asof\n",
      "pd.merge_ordered\n",
      "pd.notna\n",
      "pd.notnull\n",
      "pd.np\n",
      "pd.offsets\n",
      "pd.option_context\n",
      "pd.options\n",
      "pd.pandas\n",
      "pd.period_range\n",
      "pd.pivot\n",
      "pd.pivot_table\n",
      "pd.plotting\n",
      "pd.qcut\n",
      "pd.read_clipboard\n",
      "pd.read_csv\n",
      "pd.read_excel\n",
      "pd.read_feather\n",
      "pd.read_fwf\n",
      "pd.read_gbq\n",
      "pd.read_hdf\n",
      "pd.read_html\n",
      "pd.read_json\n",
      "pd.read_msgpack\n",
      "pd.read_parquet\n",
      "pd.read_pickle\n",
      "pd.read_sas\n",
      "pd.read_sql\n",
      "pd.read_sql_query\n",
      "pd.read_sql_table\n",
      "pd.read_stata\n",
      "pd.read_table\n",
      "pd.reset_option\n",
      "pd.set_eng_float_format\n",
      "pd.set_option\n",
      "pd.show_versions\n",
      "pd.test\n",
      "pd.testing\n",
      "pd.timedelta_range\n",
      "pd.to_datetime\n",
      "pd.to_msgpack\n",
      "pd.to_numeric\n",
      "pd.to_pickle\n",
      "pd.to_timedelta\n",
      "pd.tseries\n",
      "pd.unique\n",
      "pd.util\n",
      "pd.value_counts\n",
      "pd.wide_to_long\n"
     ]
    }
   ],
   "source": [
    "import pandas as pd\n",
    "print(\" Pandas version is\", pd.__version__)\n",
    "for i in dir(pd):\n",
    "    print(\"pd.\", end= \"\")\n",
    "    print(i)"
   ]
  },
  {
   "cell_type": "code",
   "execution_count": 53,
   "metadata": {},
   "outputs": [],
   "source": [
    "filepath = 'Income.csv'\n",
    "import pandas as pd\n",
    "def readCSVdata(filepath):\n",
    "    return pd.read_csv(filepath)\n",
    "\n",
    "def average_income(income):\n",
    "    print(\"Average income of every state from 2005 to 2013\\n\")\n",
    "    l=[]\n",
    "    for i in income.values:\n",
    "        l=l+[i]\n",
    "    #print(l)\n",
    "    d={}\n",
    "    dif=len(l[0])-2\n",
    "    for i in range(0,len(l),1):\n",
    "        if l[i][1] not in d:\n",
    "            d[l[i][1]]=0\n",
    "        for j in range(2,len(l[i]),1):\n",
    "            d[l[i][1]]+=l[i][j]\n",
    "    for key,values in d.items():\n",
    "        d[key]=d[key]//dif\n",
    "    return d"
   ]
  },
  {
   "cell_type": "code",
   "execution_count": 62,
   "metadata": {},
   "outputs": [
    {
     "name": "stdout",
     "output_type": "stream",
     "text": [
      "Enter any number : 6\n",
      "720\n"
     ]
    }
   ],
   "source": [
    "def factorial(num):\n",
    "    if num==1:\n",
    "        return num\n",
    "    else:\n",
    "        return num* (factorial(num-1))\n",
    "    \n",
    "num= int(input(\"Enter any number : \"))\n",
    "if num<0:\n",
    "    print(num, \"Factorial cannot be found for negative numbers\")\n",
    "elif num==0:\n",
    "    print(\"Factorial of zero is one\")\n",
    "else:\n",
    "    print(factorial(num))"
   ]
  },
  {
   "cell_type": "code",
   "execution_count": null,
   "metadata": {},
   "outputs": [],
   "source": [
    "def add(x,y):\n",
    "    return x+y\n",
    "def subtract(x,y):\n",
    "    return x-y\n",
    "def multiply(x,y):\n",
    "    return x*y\n",
    "def division(x,y):\n",
    "    return x/y\n",
    "    \n",
    "print(\"Select operation\")\n",
    "print(\"1.Add\")\n",
    "print(\"2.Subtract\")\n",
    "print(\"3.Multiply\")\n",
    "print(\"4.Divide\")\n",
    "\n",
    "choice= input(\"Enter choice(1/2/3/4)\")\n",
    "num1= int(input(\"Enter first number : \"))\n",
    "num2= int(input(\"Enter second number : \"))\n",
    "\n",
    "if choice=='1':\n",
    "    print(num1,\"+\", num2, \"=\", add(num1,num2))\n",
    "elif choice=='2':\n",
    "    print(num1,\"-\", num2, \"=\", subtract(num1,num2))\n",
    "elif choice=='3':\n",
    "    print(num1,\"*\", num2, \"=\", multiply(num1,num2))\n",
    "elif choice=='4':\n",
    "    print(num1,\"/\", num2, '=', division(num1,num2))\n",
    "else:\n",
    "    print(\"Invalid input\")\n"
   ]
  },
  {
   "cell_type": "code",
   "execution_count": 7,
   "metadata": {},
   "outputs": [
    {
     "name": "stdout",
     "output_type": "stream",
     "text": [
      "Come\n",
      "a\n",
      "are\n",
      "bro!\n",
      "champ\n",
      "on,\n",
      "you\n"
     ]
    }
   ],
   "source": [
    "my_str= \"Come on, you are a champ bro!\"\n",
    "words= my_str.split()\n",
    "words.sort()\n",
    "for word in words:\n",
    "    print(word)"
   ]
  },
  {
   "cell_type": "code",
   "execution_count": 22,
   "metadata": {},
   "outputs": [
    {
     "name": "stdout",
     "output_type": "stream",
     "text": [
      "    August 2019\n",
      "Mo Tu We Th Fr Sa Su\n",
      "          1  2  3  4\n",
      " 5  6  7  8  9 10 11\n",
      "12 13 14 15 16 17 18\n",
      "19 20 21 22 23 24 25\n",
      "26 27 28 29 30 31\n",
      "\n"
     ]
    }
   ],
   "source": [
    "import calendar\n",
    "year= 2019\n",
    "month=8\n",
    "print(calendar.month(year, month))"
   ]
  },
  {
   "cell_type": "code",
   "execution_count": 25,
   "metadata": {},
   "outputs": [
    {
     "name": "stdout",
     "output_type": "stream",
     "text": [
      "   November 1996\n",
      "Mo Tu We Th Fr Sa Su\n",
      "             1  2  3\n",
      " 4  5  6  7  8  9 10\n",
      "11 12 13 14 15 16 17\n",
      "18 19 20 21 22 23 24\n",
      "25 26 27 28 29 30\n",
      "\n"
     ]
    }
   ],
   "source": [
    "import calendar\n",
    "year= 1996\n",
    "month= 11\n",
    "print(calendar.month(year, month))"
   ]
  },
  {
   "cell_type": "markdown",
   "metadata": {},
   "source": [
    "### Day objectives\n",
    "- Data Visualisation using Matplotlib library\n",
    "- basic 2d plotting functions\n",
    "- plotting 2d graphs from csv dataset\n",
    "    - income dataset\n",
    "    - app store dataset\n",
    "    "
   ]
  },
  {
   "cell_type": "code",
   "execution_count": 7,
   "metadata": {},
   "outputs": [
    {
     "data": {
      "text/plain": [
       "<function matplotlib.pyplot.show(*args, **kw)>"
      ]
     },
     "execution_count": 7,
     "metadata": {},
     "output_type": "execute_result"
    },
    {
     "data": {
      "image/png": "[encoded data removed]",
      "text/plain": [
       "<Figure size 432x288 with 1 Axes>"
      ]
     },
     "metadata": {
      "needs_background": "light"
     },
     "output_type": "display_data"
    }
   ],
   "source": [
    "# Linear graph\n",
    "\n",
    "import matplotlib.pyplot as plt\n",
    "plt.title('Graph Representation')\n",
    "plt.plot([2,6,1],[2,6,1])\n",
    "plt.show"
   ]
  },
  {
   "cell_type": "code",
   "execution_count": 25,
   "metadata": {},
   "outputs": [
    {
     "data": {
      "image/png": "[encoded data removed]",
      "text/plain": [
       "<Figure size 432x288 with 1 Axes>"
      ]
     },
     "metadata": {
      "needs_background": "light"
     },
     "output_type": "display_data"
    }
   ],
   "source": [
    "import matplotlib. pyplot as plt\n",
    "distance= list(range(2,11,2))\n",
    "time= list(range(1,6))\n",
    "plt.title('Distance vs Time graph')\n",
    "plt.xlabel('Time')\n",
    "plt.ylabel('Distance')\n",
    "plt.plot(time,distance,'bo')\n",
    "plt.grid()\n",
    "plt.show()"
   ]
  },
  {
   "cell_type": "code",
   "execution_count": 45,
   "metadata": {},
   "outputs": [
    {
     "data": {
      "image/png": "[encoded data removed]",
      "text/plain": [
       "<Figure size 432x288 with 1 Axes>"
      ]
     },
     "metadata": {
      "needs_background": "light"
     },
     "output_type": "display_data"
    }
   ],
   "source": [
    "# v= at\n",
    "\n",
    "import matplotlib. pyplot as plt\n",
    "time= list(range(1,11))\n",
    "acceleration= list(range(1,len(t)+1))\n",
    "velocity= [acceleration[i] * i for i in range(len(t))]\n",
    "plt.title('Velocity vs Time')\n",
    "plt.xlabel('Time')\n",
    "plt.ylabel('velocity')\n",
    "plt.plot(time, velocity,'bo')\n",
    "plt.grid()\n",
    "plt.show()\n"
   ]
  },
  {
   "cell_type": "code",
   "execution_count": 57,
   "metadata": {},
   "outputs": [
    {
     "data": {
      "image/png": "[encoded data removed]",
      "text/plain": [
       "<Figure size 432x288 with 1 Axes>"
      ]
     },
     "metadata": {
      "needs_background": "light"
     },
     "output_type": "display_data"
    }
   ],
   "source": [
    "import matplotlib. pyplot as plt\n",
    "\n",
    "n= list(range(10))\n",
    "sqn= [i**100 for i in n]   # for i in numbered list\n",
    "plt.plot(n,sqn)\n",
    "plt.title('Numbers vs Sqaures / Cubes')\n",
    "plt.xlabel('n')\n",
    "plt.ylabel('sqn')\n",
    "plt.grid()\n",
    "plt.show()"
   ]
  },
  {
   "cell_type": "code",
   "execution_count": 67,
   "metadata": {},
   "outputs": [
    {
     "data": {
      "image/png": "[encoded data removed]",
      "text/plain": [
       "<Figure size 432x288 with 1 Axes>"
      ]
     },
     "metadata": {
      "needs_background": "light"
     },
     "output_type": "display_data"
    }
   ],
   "source": [
    "# program to display a sinusoidal wave- Voltage vs time graph\n",
    "\n",
    "import matplotlib. pyplot as plt\n",
    "\n",
    "import numpy as np\n",
    "t = [i/10 for i in range(1,21)]\n",
    "v = [1 + np.sin(2*np.pi*i) for i in t]\n",
    "plt.plot(t,v,'bo')\n",
    "plt.title('Voltage vs Time graph')\n",
    "plt.xlabel('Time')\n",
    "plt.ylabel('Voltage')\n",
    "plt.grid()\n",
    "plt.show()"
   ]
  },
  {
   "cell_type": "code",
   "execution_count": 78,
   "metadata": {},
   "outputs": [
    {
     "data": {
      "image/png": "[encoded data removed]",
      "text/plain": [
       "<Figure size 432x288 with 1 Axes>"
      ]
     },
     "metadata": {
      "needs_background": "light"
     },
     "output_type": "display_data"
    }
   ],
   "source": [
    "# program to display a sinusoidal wave- Voltage vs time graph\n",
    "import numpy as np\n",
    "t = np.arange(0.1,2.0,0.1)\n",
    "v = [1 + np.sin(2*np.pi*i) for i in t]\n",
    "plt.plot(t,v)\n",
    "plt.title('Voltage vs Time graph')\n",
    "plt.xlabel('Time')\n",
    "plt.ylabel('Voltage')\n",
    "plt.grid()\n",
    "plt.savefig('Images/Voltage- Time graph.png')\n",
    "plt.show()"
   ]
  },
  {
   "cell_type": "code",
   "execution_count": 92,
   "metadata": {},
   "outputs": [
    {
     "data": {
      "image/png": "[encoded data removed]",
      "text/plain": [
       "<Figure size 432x288 with 1 Axes>"
      ]
     },
     "metadata": {
      "needs_background": "light"
     },
     "output_type": "display_data"
    }
   ],
   "source": [
    "# plot the income of the lowest state- Arkansas from 2005 to 2013\n",
    "\n",
    "import matplotlib. pyplot as plt\n",
    "import pandas as pd\n",
    "df= pd.read_csv('DataFiles/Income.csv')\n",
    "years= df.columns[2:]\n",
    "incomeArkansas = df.values[3,2:]\n",
    "plt.title('Income of Arkansas in the years 2005-2013')\n",
    "plt.xlabel('Years')\n",
    "plt.ylabel('Income')\n",
    "plt.plot(years, incomeArkansas)\n",
    "plt.grid()\n",
    "plt.show()"
   ]
  },
  {
   "cell_type": "code",
   "execution_count": 108,
   "metadata": {},
   "outputs": [
    {
     "data": {
      "image/png": "[encoded data removed]",
      "text/plain": [
       "<Figure size 432x288 with 1 Axes>"
      ]
     },
     "metadata": {
      "needs_background": "light"
     },
     "output_type": "display_data"
    }
   ],
   "source": [
    "# income of all stated from 2005 to 2013\n",
    "\n",
    "import matplotlib. pyplot as plt\n",
    "df\n",
    "incomeofallstates= []\n",
    "for i in df.columns[2:]:   # i represents column index\n",
    "    incomeofallstates.append(df[i].mean())\n",
    "\n",
    "plt.plot(years,incomeofallstates)\n",
    "plt.title('Income of all states from 2005- 2013')\n",
    "plt.xlabel('Years')\n",
    "plt.ylabel('Income')\n",
    "plt.grid()\n",
    "plt.show()"
   ]
  },
  {
   "cell_type": "code",
   "execution_count": null,
   "metadata": {},
   "outputs": [],
   "source": []
  }
 ],
 "metadata": {
  "kernelspec": {
   "display_name": "Python 3",
   "language": "python",
   "name": "python3"
  },
  "language_info": {
   "codemirror_mode": {
    "name": "ipython",
    "version": 3
   },
   "file_extension": ".py",
   "mimetype": "text/x-python",
   "name": "python",
   "nbconvert_exporter": "python",
   "pygments_lexer": "ipython3",
   "version": "3.7.3"
  }
 },
 "nbformat": 4,
 "nbformat_minor": 2
}
