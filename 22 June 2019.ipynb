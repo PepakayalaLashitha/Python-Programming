{
 "cells": [
  {
   "cell_type": "code",
   "execution_count": 4,
   "metadata": {},
   "outputs": [
    {
     "name": "stdout",
     "output_type": "stream",
     "text": [
      "Good Morning!\n"
     ]
    }
   ],
   "source": [
    "print(\"Good Morning!\")"
   ]
  },
  {
   "cell_type": "code",
   "execution_count": 8,
   "metadata": {},
   "outputs": [
    {
     "name": "stdout",
     "output_type": "stream",
     "text": [
      "Good Morning !||Welcome to Python\n"
     ]
    }
   ],
   "source": [
    "print(\"Good Morning\",\"!\", end=\"||\")\n",
    "print(\"Welcome to Python\")"
   ]
  },
  {
   "cell_type": "code",
   "execution_count": 9,
   "metadata": {},
   "outputs": [
    {
     "name": "stdout",
     "output_type": "stream",
     "text": [
      "1 2 3\n"
     ]
    }
   ],
   "source": [
    "a,b,c = 1,2,3\n",
    "print(a,b,c)"
   ]
  },
  {
   "cell_type": "code",
   "execution_count": 10,
   "metadata": {},
   "outputs": [
    {
     "name": "stdout",
     "output_type": "stream",
     "text": [
      "1234.5\n"
     ]
    }
   ],
   "source": [
    "f1 = 1234.5\n",
    "print(f1)"
   ]
  },
  {
   "cell_type": "code",
   "execution_count": 25,
   "metadata": {},
   "outputs": [
    {
     "name": "stdout",
     "output_type": "stream",
     "text": [
      "enter first number1\n",
      "enter second number2\n",
      "enter third number3\n",
      "3  is greater\n"
     ]
    }
   ],
   "source": [
    "n1= int(input(\"enter first number\"))\n",
    "n2= int(input(\"enter second number\"))\n",
    "n3= int(input(\"enter third number\"))\n",
    "if n1>n2 and n1>n3:\n",
    "    print(n1,\" is greater\")\n",
    "elif n2>n2:\n",
    "    print(n2,\" is greater\")\n",
    "else:\n",
    "    print(n3,\" is greater\")"
   ]
  },
  {
   "cell_type": "code",
   "execution_count": 33,
   "metadata": {},
   "outputs": [
    {
     "name": "stdout",
     "output_type": "stream",
     "text": [
      "Enter a year2016\n",
      "2016 is a leap year\n"
     ]
    }
   ],
   "source": [
    "year= int(input(\"Enter a year\"))\n",
    "if (year%4==0 and year%100!=0) or (year%400==0):\n",
    "    print(year,\"is a leap year\")\n",
    "else:\n",
    "    print(year,\"is not a leap year\")"
   ]
  },
  {
   "cell_type": "code",
   "execution_count": 39,
   "metadata": {},
   "outputs": [
    {
     "name": "stdout",
     "output_type": "stream",
     "text": [
      "126 Number exists in the range\n"
     ]
    }
   ],
   "source": [
    "num= 126\n",
    "lb= 50\n",
    "ub= 150\n",
    "if num>=lb and num<=ub:\n",
    "    print(num,\"Number exists in the range\")\n",
    "else:\n",
    "    print(num,\"doesnt exist\")"
   ]
  },
  {
   "cell_type": "code",
   "execution_count": 40,
   "metadata": {},
   "outputs": [
    {
     "name": "stdout",
     "output_type": "stream",
     "text": [
      "9\n"
     ]
    }
   ],
   "source": [
    "n=123456789\n",
    "print(len(str(n)))"
   ]
  },
  {
   "cell_type": "code",
   "execution_count": 1,
   "metadata": {},
   "outputs": [
    {
     "name": "stdout",
     "output_type": "stream",
     "text": [
      "Enter any number16\n",
      "16 is a multiple of 4\n"
     ]
    }
   ],
   "source": [
    "num= int(input(\"Enter any number\"))\n",
    "if num%4==0:\n",
    "    print(num,\"is a multiple of 4\")\n",
    "else:\n",
    "    print(num,\" is not a multiple of 4\")"
   ]
  },
  {
   "cell_type": "code",
   "execution_count": 5,
   "metadata": {},
   "outputs": [
    {
     "name": "stdout",
     "output_type": "stream",
     "text": [
      "123456 is not equal to lashitha\n"
     ]
    }
   ],
   "source": [
    "s1= \"lashitha\"\n",
    "n1= 123456\n",
    "if str(n1)==s1:\n",
    "    print(n1, \"is equal to\" , s1)\n",
    "else:\n",
    "    print(n1, \"is not equal to\" , s1)\n",
    "    \n",
    "        "
   ]
  },
  {
   "cell_type": "code",
   "execution_count": 6,
   "metadata": {},
   "outputs": [
    {
     "name": "stdout",
     "output_type": "stream",
     "text": [
      "9\n"
     ]
    }
   ],
   "source": [
    "num = 987654321\n",
    "print(len(str(num)))"
   ]
  },
  {
   "cell_type": "code",
   "execution_count": 15,
   "metadata": {},
   "outputs": [
    {
     "name": "stdout",
     "output_type": "stream",
     "text": [
      "enter number1\n",
      "enter number2\n",
      "enter number3\n",
      "enter number4\n",
      "4 is greater\n"
     ]
    }
   ],
   "source": [
    "n1= int(input(\"enter number\"))\n",
    "n2= int(input(\"enter number\"))\n",
    "n3= int(input(\"enter number\"))\n",
    "n4= int(input(\"enter number\"))\n",
    "if n1>n2 and n1>n3 and n1>n4:\n",
    "    print(n1,\"is greater\")\n",
    "elif n2>n3 and n2>n4:\n",
    "    print(n2,\"is greater \")\n",
    "elif n3>n4:\n",
    "    print(n3,\"is greater\")\n",
    "else:\n",
    "    print(n4,\"is greater\")"
   ]
  },
  {
   "cell_type": "markdown",
   "metadata": {},
   "source": [
    "#### Day Objectives\n",
    "- File handling\n",
    "    - Basic file data processing\n",
    "          - Accessing and Modifying File\n",
    "    - Charecter count\n",
    "    - Line count\n",
    "    - File size\n",
    "    - Word count\n",
    "    - Unique word count\n",
    "    \n"
   ]
  },
  {
   "cell_type": "code",
   "execution_count": 21,
   "metadata": {},
   "outputs": [
    {
     "name": "stdout",
     "output_type": "stream",
     "text": [
      "newdata\n",
      "Line2\n",
      "Line3Line2\n",
      "Line3This is .......................Hey!This day..Python Programming\n"
     ]
    }
   ],
   "source": [
    "# Read a file - File should exist(read mode)\n",
    "#write to a file - Existing(append mode) or New file(write mode)\n",
    "\n",
    "def readFile(filePath):\n",
    "    with open(filePath,'r') as f:\n",
    "        filedata= f.read()\n",
    "    return filedata\n",
    "\n",
    "filePath= 'C:/Users/IIIT-rgukt/Desktop/Python-Programming/Datafiles/data.txt'\n",
    "print(readFile(filePath))\n",
    "\n",
    "\n",
    "    \n"
   ]
  },
  {
   "cell_type": "code",
   "execution_count": 23,
   "metadata": {},
   "outputs": [
    {
     "name": "stdout",
     "output_type": "stream",
     "text": [
      "1 2 3 4 5 6 7 8 9 10 11 12 13 14 15 16 17 18 19 20 21 22 23 24 25 26 27 28 29 30 \n"
     ]
    }
   ],
   "source": [
    "def printNNaturalNumbers(n):\n",
    "    for counter in range(1, n+1):\n",
    "        print(counter, end=\" \")\n",
    "    print()\n",
    "    return\n",
    "\n",
    "printNNaturalNumbers(30)\n"
   ]
  },
  {
   "cell_type": "code",
   "execution_count": null,
   "metadata": {},
   "outputs": [],
   "source": [
    "def writeFile(filePath,filedata):\n",
    "    with open(filePath,'a') as ref_var:\n",
    "        ref_var.write(filedata)\n",
    "    return\n",
    "\n",
    "filePath= 'C:/Users/IIIT-rgukt/Desktop/Python-Programming/Datafiles/data.txt' \n",
    "filedata = input(\"Enter data to write the file\")\n",
    "writeFile(filepath,filedata)"
   ]
  },
  {
   "cell_type": "code",
   "execution_count": 10,
   "metadata": {},
   "outputs": [
    {
     "name": "stdout",
     "output_type": "stream",
     "text": [
      "1. Read File \n",
      " 2. Write File \n",
      " 3. Append File \n",
      " \n",
      "Enter a number\n",
      "1\n"
     ]
    },
    {
     "ename": "NameError",
     "evalue": "name 'f' is not defined",
     "output_type": "error",
     "traceback": [
      "\u001b[1;31m---------------------------------------------------------------------------\u001b[0m",
      "\u001b[1;31mNameError\u001b[0m                                 Traceback (most recent call last)",
      "\u001b[1;32m<ipython-input-10-60d9e7951744>\u001b[0m in \u001b[0;36m<module>\u001b[1;34m\u001b[0m\n\u001b[0;32m     22\u001b[0m     \u001b[0mn\u001b[0m\u001b[1;33m=\u001b[0m \u001b[0mint\u001b[0m\u001b[1;33m(\u001b[0m\u001b[0minput\u001b[0m\u001b[1;33m(\u001b[0m\u001b[1;33m)\u001b[0m\u001b[1;33m)\u001b[0m\u001b[1;33m\u001b[0m\u001b[1;33m\u001b[0m\u001b[0m\n\u001b[0;32m     23\u001b[0m     \u001b[1;32mif\u001b[0m \u001b[0mn\u001b[0m\u001b[1;33m==\u001b[0m\u001b[1;36m1\u001b[0m\u001b[1;33m:\u001b[0m\u001b[1;33m\u001b[0m\u001b[1;33m\u001b[0m\u001b[0m\n\u001b[1;32m---> 24\u001b[1;33m         \u001b[0mreadFile\u001b[0m\u001b[1;33m(\u001b[0m\u001b[0mfilePath\u001b[0m\u001b[1;33m)\u001b[0m\u001b[1;33m\u001b[0m\u001b[1;33m\u001b[0m\u001b[0m\n\u001b[0m\u001b[0;32m     25\u001b[0m     \u001b[1;32melif\u001b[0m \u001b[0mn\u001b[0m\u001b[1;33m==\u001b[0m\u001b[1;36m2\u001b[0m\u001b[1;33m:\u001b[0m\u001b[1;33m\u001b[0m\u001b[1;33m\u001b[0m\u001b[0m\n\u001b[0;32m     26\u001b[0m         \u001b[0mfiledata\u001b[0m\u001b[1;33m=\u001b[0m\u001b[0minput\u001b[0m\u001b[1;33m(\u001b[0m\u001b[1;34m\"Enter the data\"\u001b[0m\u001b[1;33m)\u001b[0m\u001b[1;33m\u001b[0m\u001b[1;33m\u001b[0m\u001b[0m\n",
      "\u001b[1;32m<ipython-input-10-60d9e7951744>\u001b[0m in \u001b[0;36mreadFile\u001b[1;34m(filePath)\u001b[0m\n\u001b[0;32m      1\u001b[0m \u001b[1;32mdef\u001b[0m \u001b[0mreadFile\u001b[0m\u001b[1;33m(\u001b[0m\u001b[0mfilePath\u001b[0m\u001b[1;33m)\u001b[0m\u001b[1;33m:\u001b[0m\u001b[1;33m\u001b[0m\u001b[1;33m\u001b[0m\u001b[0m\n\u001b[0;32m      2\u001b[0m     \u001b[1;32mwith\u001b[0m \u001b[0mopen\u001b[0m\u001b[1;33m(\u001b[0m\u001b[0mfilePath\u001b[0m\u001b[1;33m,\u001b[0m\u001b[1;34m'r'\u001b[0m\u001b[1;33m)\u001b[0m \u001b[1;32mas\u001b[0m \u001b[0mref_var\u001b[0m\u001b[1;33m:\u001b[0m\u001b[1;33m\u001b[0m\u001b[1;33m\u001b[0m\u001b[0m\n\u001b[1;32m----> 3\u001b[1;33m         \u001b[0mfiledata\u001b[0m \u001b[1;33m=\u001b[0m \u001b[0mf\u001b[0m\u001b[1;33m.\u001b[0m\u001b[0mreadlines\u001b[0m\u001b[1;33m(\u001b[0m\u001b[1;33m)\u001b[0m\u001b[1;33m\u001b[0m\u001b[1;33m\u001b[0m\u001b[0m\n\u001b[0m\u001b[0;32m      4\u001b[0m         \u001b[1;32mfor\u001b[0m \u001b[0mline\u001b[0m \u001b[1;32min\u001b[0m \u001b[0mfiledata\u001b[0m\u001b[1;33m:\u001b[0m\u001b[1;33m\u001b[0m\u001b[1;33m\u001b[0m\u001b[0m\n\u001b[0;32m      5\u001b[0m             \u001b[0mprint\u001b[0m\u001b[1;33m(\u001b[0m\u001b[0mline\u001b[0m\u001b[1;33m)\u001b[0m\u001b[1;33m\u001b[0m\u001b[1;33m\u001b[0m\u001b[0m\n",
      "\u001b[1;31mNameError\u001b[0m: name 'f' is not defined"
     ]
    }
   ],
   "source": [
    "def readFile(filePath):\n",
    "    with open(filePath,'r') as ref_var:\n",
    "        filedata = f.readlines()\n",
    "        for line in filedata:\n",
    "            print(line)\n",
    "            \n",
    "def writeFile(filePath,filedata):\n",
    "    with open(filePath,'w') as ref_var:\n",
    "        f.write(filedata)\n",
    "        return\n",
    "    \n",
    "def appendFile(filePath,filedata):\n",
    "    with open(filePath,'a') as ref_var:\n",
    "        f.append(filedata)\n",
    "        return\n",
    "\n",
    "c=1\n",
    "filePath= 'C:/Users/IIIT-rgukt/Desktop/Python-Programming/Datafiles/data.txt' \n",
    "while c==1:\n",
    "    print(\"1. Read File \\n 2. Write File \\n 3. Append File \\n \")\n",
    "    print(\"Enter a number\")\n",
    "    n= int(input())\n",
    "    if n==1:\n",
    "        readFile(filePath)\n",
    "    elif n==2:\n",
    "        filedata=input(\"Enter the data\")\n",
    "        writeFile(filepath,filedata)\n",
    "    elif n==3:\n",
    "        filedata = input(\"append the data\")\n",
    "        writefile(filePath,filedata)\n",
    "        print(\"\\n Enter 1 to continue \\n Enter 0 to exit\\n\")\n",
    "        c=int(input())\n",
    "            \n",
    "            \n",
    "        \n",
    "   \n",
    "        \n",
    "    \n"
   ]
  },
  {
   "cell_type": "code",
   "execution_count": 17,
   "metadata": {},
   "outputs": [
    {
     "name": "stdout",
     "output_type": "stream",
     "text": [
      "LLRDDR\n",
      "0 -2\n"
     ]
    }
   ],
   "source": [
    "s= input()\n",
    "i=[0,0]\n",
    "def maze(s):\n",
    "    for ele in s:\n",
    "        if ele == 'L':\n",
    "            i[0]=i[0]-1\n",
    "        elif ele=='R':\n",
    "            i[0]=i[0]+1\n",
    "        elif ele=='U':\n",
    "            i[1]=i[1]+1\n",
    "        elif ele=='D':\n",
    "            i[1]=i[1]-1\n",
    "            \n",
    "    print(i[0],i[1])\n",
    "maze(s)"
   ]
  },
  {
   "cell_type": "code",
   "execution_count": 20,
   "metadata": {},
   "outputs": [
    {
     "ename": "FileNotFoundError",
     "evalue": "[Errno 2] No such file or directory: 'sample.txt'",
     "output_type": "error",
     "traceback": [
      "\u001b[1;31m---------------------------------------------------------------------------\u001b[0m",
      "\u001b[1;31mFileNotFoundError\u001b[0m                         Traceback (most recent call last)",
      "\u001b[1;32m<ipython-input-20-21d891155aba>\u001b[0m in \u001b[0;36m<module>\u001b[1;34m\u001b[0m\n\u001b[1;32m----> 1\u001b[1;33m \u001b[1;32mwith\u001b[0m \u001b[0mopen\u001b[0m\u001b[1;33m(\u001b[0m\u001b[1;34m\"sample.txt\"\u001b[0m\u001b[1;33m,\u001b[0m \u001b[1;34m\"r+\"\u001b[0m\u001b[1;33m)\u001b[0m \u001b[1;32mas\u001b[0m \u001b[0mfh\u001b[0m\u001b[1;33m:\u001b[0m\u001b[1;33m\u001b[0m\u001b[1;33m\u001b[0m\u001b[0m\n\u001b[0m\u001b[0;32m      2\u001b[0m     \u001b[0mlineno\u001b[0m\u001b[1;33m=\u001b[0m\u001b[1;36m1\u001b[0m\u001b[1;33m\u001b[0m\u001b[1;33m\u001b[0m\u001b[0m\n\u001b[0;32m      3\u001b[0m     \u001b[0mlines\u001b[0m\u001b[1;33m=\u001b[0m\u001b[0mfh\u001b[0m\u001b[1;33m.\u001b[0m\u001b[0mreadlines\u001b[0m\u001b[1;33m(\u001b[0m\u001b[1;33m)\u001b[0m\u001b[1;33m\u001b[0m\u001b[1;33m\u001b[0m\u001b[0m\n\u001b[0;32m      4\u001b[0m \u001b[0mfw\u001b[0m\u001b[1;33m=\u001b[0m\u001b[0mopen\u001b[0m\u001b[1;33m(\u001b[0m\u001b[1;34m\"sample.txt\"\u001b[0m\u001b[1;33m,\u001b[0m\u001b[1;34m\"w\"\u001b[0m\u001b[1;33m)\u001b[0m\u001b[1;33m\u001b[0m\u001b[1;33m\u001b[0m\u001b[0m\n\u001b[0;32m      5\u001b[0m \u001b[1;32mfor\u001b[0m \u001b[0mline\u001b[0m \u001b[1;32min\u001b[0m \u001b[0mlines\u001b[0m\u001b[1;33m:\u001b[0m\u001b[1;33m\u001b[0m\u001b[1;33m\u001b[0m\u001b[0m\n",
      "\u001b[1;31mFileNotFoundError\u001b[0m: [Errno 2] No such file or directory: 'sample.txt'"
     ]
    }
   ],
   "source": [
    "with open(\"sample.txt\", \"r+\") as fh:\n",
    "    lineno=1\n",
    "    lines=fh.readlines()\n",
    "fw=open(\"sample.txt\",\"w\")\n",
    "for line in lines:\n",
    "    print(lineno,line,end=\"\",sep=\".\", file=fw)\n",
    "    lineno+=1\n",
    "fw.close()\n"
   ]
  },
  {
   "cell_type": "code",
   "execution_count": null,
   "metadata": {},
   "outputs": [],
   "source": [
    "def elementCount(L,e):\n",
    "    c=0\n",
    "    for i in L:\n",
    "        if i==e:\n",
    "            c+=1 \n",
    "    return c \n",
    "\n",
    "n= int(input())#total num of elements in array\n",
    "L= list(map(int,input().split()))\n",
    "Q=int(input())\n",
    "for i in range(Q):\n",
    "    e= int(input())\n",
    "    check= elementCount(L,e)\n",
    "    if check==0:\n",
    "        print('Not Present')\n",
    "    else:\n",
    "        print(check)"
   ]
  },
  {
   "cell_type": "code",
   "execution_count": null,
   "metadata": {},
   "outputs": [],
   "source": [
    "def elementCount(L):\n",
    "    d={}\n",
    "    for i in d:\n",
    "        if i in d:\n",
    "            d[i]+=1\n",
    "        else:\n",
    "            d[i]=1\n",
    "    return d\n",
    "\n",
    "n=int(input())\n",
    "L=list(map(int,input().split()))\n",
    "Q=int(input())\n",
    "d=elementCount(L)\n",
    "for i in range(q):\n",
    "    e= int(input())\n",
    "    if e in d:\n",
    "        print(d[e])\n",
    "    else:\n",
    "        print('NOT PRESENT')\n"
   ]
  },
  {
   "cell_type": "code",
   "execution_count": null,
   "metadata": {},
   "outputs": [],
   "source": []
  }
 ],
 "metadata": {
  "kernelspec": {
   "display_name": "Python 3",
   "language": "python",
   "name": "python3"
  },
  "language_info": {
   "codemirror_mode": {
    "name": "ipython",
    "version": 3
   },
   "file_extension": ".py",
   "mimetype": "text/x-python",
   "name": "python",
   "nbconvert_exporter": "python",
   "pygments_lexer": "ipython3",
   "version": "3.7.3"
  }
 },
 "nbformat": 4,
 "nbformat_minor": 2
}
