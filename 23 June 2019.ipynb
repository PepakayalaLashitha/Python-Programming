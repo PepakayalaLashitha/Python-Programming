{
 "cells": [
  {
   "cell_type": "code",
   "execution_count": 1,
   "metadata": {},
   "outputs": [
    {
     "data": {
      "text/plain": [
       "['newdata',\n",
       " 'Line2',\n",
       " 'Line3Line2',\n",
       " 'Line3This is .......................Hey!This day..Python Programminghi']"
      ]
     },
     "execution_count": 1,
     "metadata": {},
     "output_type": "execute_result"
    }
   ],
   "source": [
    "def readFileIntoList(filepath):\n",
    "    with open(filepath,'r') as f:\n",
    "        filedata= f.read()\n",
    "        lines= filedata.split('\\n')\n",
    "        #lines =[]\n",
    "        #for line in f:\n",
    "        #lines.append(line)\n",
    "    return lines\n",
    "\n",
    "filepath='DataFiles/data.txt'\n",
    "readFileIntoList(filepath)\n",
    "        "
   ]
  },
  {
   "cell_type": "code",
   "execution_count": 16,
   "metadata": {},
   "outputs": [
    {
     "ename": "NameError",
     "evalue": "name 'readfile' is not defined",
     "output_type": "error",
     "traceback": [
      "\u001b[1;31m---------------------------------------------------------------------------\u001b[0m",
      "\u001b[1;31mNameError\u001b[0m                                 Traceback (most recent call last)",
      "\u001b[1;32m<ipython-input-16-9c06db08df31>\u001b[0m in \u001b[0;36m<module>\u001b[1;34m\u001b[0m\n\u001b[0;32m      6\u001b[0m \u001b[1;33m\u001b[0m\u001b[0m\n\u001b[0;32m      7\u001b[0m \u001b[0mfilepath\u001b[0m\u001b[1;33m=\u001b[0m\u001b[1;34m'DataFiles/data.txt'\u001b[0m\u001b[1;33m\u001b[0m\u001b[1;33m\u001b[0m\u001b[0m\n\u001b[1;32m----> 8\u001b[1;33m \u001b[0mcharcountFile\u001b[0m\u001b[1;33m(\u001b[0m\u001b[0mfilepath\u001b[0m\u001b[1;33m)\u001b[0m\u001b[1;33m\u001b[0m\u001b[1;33m\u001b[0m\u001b[0m\n\u001b[0m",
      "\u001b[1;32m<ipython-input-16-9c06db08df31>\u001b[0m in \u001b[0;36mcharcountFile\u001b[1;34m(filepath)\u001b[0m\n\u001b[0;32m      2\u001b[0m     \u001b[1;32mwith\u001b[0m \u001b[0mopen\u001b[0m\u001b[1;33m(\u001b[0m\u001b[0mfilepath\u001b[0m\u001b[1;33m,\u001b[0m\u001b[1;34m'r'\u001b[0m\u001b[1;33m)\u001b[0m \u001b[1;32mas\u001b[0m \u001b[0mf\u001b[0m\u001b[1;33m:\u001b[0m\u001b[1;33m\u001b[0m\u001b[1;33m\u001b[0m\u001b[0m\n\u001b[0;32m      3\u001b[0m         \u001b[0mfiledata\u001b[0m\u001b[1;33m=\u001b[0m\u001b[0mf\u001b[0m\u001b[1;33m.\u001b[0m\u001b[0mread\u001b[0m\u001b[1;33m(\u001b[0m\u001b[1;33m)\u001b[0m\u001b[1;33m\u001b[0m\u001b[1;33m\u001b[0m\u001b[0m\n\u001b[1;32m----> 4\u001b[1;33m     \u001b[0mcount\u001b[0m\u001b[1;33m=\u001b[0m\u001b[0mlen\u001b[0m\u001b[1;33m(\u001b[0m\u001b[0mreadfile\u001b[0m\u001b[1;33m(\u001b[0m\u001b[0mfilepath\u001b[0m\u001b[1;33m)\u001b[0m\u001b[1;33m)\u001b[0m\u001b[1;33m\u001b[0m\u001b[1;33m\u001b[0m\u001b[0m\n\u001b[0m\u001b[0;32m      5\u001b[0m     \u001b[1;32mreturn\u001b[0m \u001b[0mcount\u001b[0m\u001b[1;33m\u001b[0m\u001b[1;33m\u001b[0m\u001b[0m\n\u001b[0;32m      6\u001b[0m \u001b[1;33m\u001b[0m\u001b[0m\n",
      "\u001b[1;31mNameError\u001b[0m: name 'readfile' is not defined"
     ]
    }
   ],
   "source": [
    "def charcountFile(filepath):\n",
    "    with open(filepath,'r') as f:\n",
    "        filedata=f.read()\n",
    "    count=len(readfile(filepath))\n",
    "    return count\n",
    "\n",
    "filepath='DataFiles/data.txt'\n",
    "charcountFile(filepath)"
   ]
  },
  {
   "cell_type": "code",
   "execution_count": 14,
   "metadata": {},
   "outputs": [
    {
     "data": {
      "text/plain": [
       "8"
      ]
     },
     "execution_count": 14,
     "metadata": {},
     "output_type": "execute_result"
    }
   ],
   "source": [
    "import re\n",
    "def wordCountFile(filepath):\n",
    "    with open(filepath,'r') as f:\n",
    "        filedata=f.read()\n",
    "        pattern= '[ \\n]'\n",
    "        count=len(re.split(pattern,filedata))\n",
    "    return count\n",
    "\n",
    "filepath='DataFiles/data.txt'\n",
    "wordCountFile(filepath)"
   ]
  },
  {
   "cell_type": "code",
   "execution_count": 19,
   "metadata": {},
   "outputs": [
    {
     "data": {
      "text/plain": [
       "[1, 2, 3]"
      ]
     },
     "execution_count": 19,
     "metadata": {},
     "output_type": "execute_result"
    }
   ],
   "source": [
    "#function to get unique elements in a list\n",
    "\n",
    "#[1,2,3,3,2,1] ->[1,2,3]\n",
    "#Create a empty unique list [1,2,3]\n",
    "\n",
    "def uniqueData(li):\n",
    "    #create an empty unique list\n",
    "    unique=[]\n",
    "    # for every element in the main list\n",
    "    # check if it exists in the unique list\n",
    "    # if it does not exist, add it to the unique list\n",
    "    # else if it already exist, move on to the next element in the main list\n",
    "    \n",
    "    for element in li:\n",
    "        if element not in unique:\n",
    "            unique.append(element)\n",
    "    return unique\n",
    "    \n",
    "li = [1,2,3,3,2,1]    \n",
    "uniqueData(li)\n",
    "            "
   ]
  },
  {
   "cell_type": "code",
   "execution_count": 20,
   "metadata": {},
   "outputs": [
    {
     "data": {
      "text/plain": [
       "[4, 5, 6, 7]"
      ]
     },
     "execution_count": 20,
     "metadata": {},
     "output_type": "execute_result"
    }
   ],
   "source": [
    "def uniqueData(li):\n",
    "    #create an empty unique list\n",
    "    unique=[]\n",
    "    # for every element in the main list\n",
    "    # check if it exists in the unique list\n",
    "    # if it does not exist, add it to the unique list\n",
    "    # else if it already exist, move on to the next element in the main list\n",
    "    \n",
    "    for element in li:\n",
    "        if element not in unique:\n",
    "            unique.append(element)\n",
    "    return unique\n",
    "li=[4,5,6,5,4,7]\n",
    "uniqueData(li)"
   ]
  },
  {
   "cell_type": "code",
   "execution_count": 21,
   "metadata": {},
   "outputs": [
    {
     "data": {
      "text/plain": [
       "[10, 12, 13, 14]"
      ]
     },
     "execution_count": 21,
     "metadata": {},
     "output_type": "execute_result"
    }
   ],
   "source": [
    "def uniqueData(li):\n",
    "    #create an empty unique list\n",
    "    unique=[]\n",
    "    # for every element in the main list\n",
    "    # check if it exists in the unique list\n",
    "    # if it does not exist, add it to the unique list\n",
    "    # else if it already exist, move on to the next element in the main list\n",
    "    \n",
    "    for element in li:\n",
    "        if element not in unique:\n",
    "            unique.append(element)\n",
    "    return unique\n",
    "li=[10,12,13,14,12,12,10]\n",
    "uniqueData(li)"
   ]
  },
  {
   "cell_type": "code",
   "execution_count": null,
   "metadata": {},
   "outputs": [],
   "source": [
    "#Function to print the frequency count \n",
    "#frequency distribution\n",
    "\n",
    "#data in line1\n",
    "#data in line2\n",
    "#data in line3\n",
    "#o/p\n",
    "#data :3\n",
    "#in:3\n",
    "#line:3\n",
    "#1:1\n",
    "#2:1\n",
    "#3:1\n"
   ]
  },
  {
   "cell_type": "code",
   "execution_count": 31,
   "metadata": {},
   "outputs": [
    {
     "name": "stdout",
     "output_type": "stream",
     "text": [
      "['newdata', 'Line2', 'Line3Line2', 'Line3This', 'is', '.......................Hey!This', 'day..Python', 'Programminghi']\n"
     ]
    },
    {
     "data": {
      "text/plain": [
       "0"
      ]
     },
     "execution_count": 31,
     "metadata": {},
     "output_type": "execute_result"
    }
   ],
   "source": [
    "def uniqueWords(filepath):\n",
    "    count=0\n",
    "    filepath= 'DataFiles/data.txt'\n",
    "    with open(filepath,'r') as f:\n",
    "        filedata= f. read().split()\n",
    "        print(filedata)\n",
    "        \n",
    "        unique=[]\n",
    "        for element in unique:\n",
    "            if element not in unique:\n",
    "                unique.append(element)\n",
    "                count+=1\n",
    "            print(unique)\n",
    "        return count\n",
    "    \n",
    "uniqueWords(filepath)\n",
    "        "
   ]
  },
  {
   "cell_type": "code",
   "execution_count": 41,
   "metadata": {
    "scrolled": true
   },
   "outputs": [
    {
     "name": "stdout",
     "output_type": "stream",
     "text": [
      "['newdata', 'Line2', 'Line3Line2', 'Line3This', 'is', '.......................Hey!This', 'day..Python', 'Programminghi']\n",
      "newdata : 1\n",
      "Line2 : 1\n",
      "Line3Line2 : 1\n",
      "Line3This : 1\n",
      "is : 1\n",
      ".......................Hey!This : 1\n",
      "day..Python : 1\n",
      "Programminghi : 1\n"
     ]
    }
   ],
   "source": [
    "def frequencyCount(filepath):\n",
    "    count={}\n",
    "    with open(filepath,'r') as f:\n",
    "        filedata= f.read().split()\n",
    "        print(filedata)\n",
    "        for i in filedata:\n",
    "            if i not in count:\n",
    "                count[i]=1\n",
    "            else:\n",
    "                count[i]+=1\n",
    "                \n",
    "    for key,value in count.items():\n",
    "        print(\"%s : %d\" %(key,value))\n",
    "    \n",
    "filepath= \"DataFiles/data.txt\"\n",
    "frequencyCount(filepath)"
   ]
  },
  {
   "cell_type": "code",
   "execution_count": null,
   "metadata": {},
   "outputs": [],
   "source": []
  },
  {
   "cell_type": "code",
   "execution_count": null,
   "metadata": {},
   "outputs": [],
   "source": []
  }
 ],
 "metadata": {
  "kernelspec": {
   "display_name": "Python 3",
   "language": "python",
   "name": "python3"
  },
  "language_info": {
   "codemirror_mode": {
    "name": "ipython",
    "version": 3
   },
   "file_extension": ".py",
   "mimetype": "text/x-python",
   "name": "python",
   "nbconvert_exporter": "python",
   "pygments_lexer": "ipython3",
   "version": "3.7.3"
  }
 },
 "nbformat": 4,
 "nbformat_minor": 2
}
