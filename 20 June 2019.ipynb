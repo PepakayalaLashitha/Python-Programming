{
 "cells": [
  {
   "cell_type": "code",
   "execution_count": 1,
   "metadata": {},
   "outputs": [
    {
     "name": "stdout",
     "output_type": "stream",
     "text": [
      "5\n",
      "100\n",
      "110\n",
      "YES\n",
      "130\n",
      "YES\n",
      "90\n",
      "NO\n",
      "100\n",
      "YES\n",
      "45\n",
      "NO\n"
     ]
    }
   ],
   "source": [
    "n = int(input())\n",
    "x = int(input())\n",
    "for i in range(0,n,1):\n",
    "    y = int(input())    \n",
    "    if y>=x:\n",
    "        print(\"YES\")\n",
    "    else:\n",
    "        print(\"NO\")"
   ]
  },
  {
   "cell_type": "code",
   "execution_count": 10,
   "metadata": {},
   "outputs": [
    {
     "name": "stdout",
     "output_type": "stream",
     "text": [
      "We lost the match\n"
     ]
    }
   ],
   "source": [
    "import re\n",
    "\n",
    "txt= \"The rain in spain\"\n",
    "x = re.search(\"Spain\", txt)\n",
    "if(x):\n",
    "    print(\"Yes, We have won the match\")\n",
    "else:\n",
    "    print(\"We lost the match\")\n",
    "    "
   ]
  },
  {
   "cell_type": "markdown",
   "metadata": {},
   "source": [
    "### Regular Expression\n",
    "\n",
    "- Pattern matching\n",
    "- Symbolic notation of a pattern\n",
    "\n",
    "Pattern: Format that repeats \n",
    "Pattern(RE) represents the set of all strings that matches a pattern\n",
    "\n",
    "Examples:  [0-9] -> any digit\n",
    "           [a-z] -> any lower case alphabet\n",
    "           [2468] -> all single digit multiples of 2\n",
    "           \n",
    "\n",
    "- ^[0-9]{1}$ - only single digit numbers\n",
    "- ^[0-9]{2}$ - only two digit numbers\n",
    "      {3}                      Three\n",
    "      .\n",
    "      .\n",
    "      .\n",
    "      .\n",
    "- [0-9]*0$ ->                           All Multiples of 10   \n",
    "- ^([][1-9][0-9]*[05]|[5])$ ->          All multiples of 5\n",
    "- ^[1-9]{10}$ ->                        All 10 digit numbers\n",
    "- (9|8|7|6)[0-9]{9}$ ->                 phone numbers starting with 9 8 7 6 followed by 9 digits\n",
    "- (print) | [p][r][i[n][t] Searching for a 'word'\n",
    "- ^[6-9][0-9{9}$|^[0][6-9][0-9]{9}|^[+][9][1][6-9][0-9]{9}$  followed by 9 digis\n",
    "\n",
    "\n",
    "\n",
    "Email Validation : ^[0-9a-zA-Z][0-9a-zA-Z_.]{4,13}[0-9a-zA-Z](@)[A-Za-z0-9]{3,12}(.)[a-z]{2,4}$\n",
    "\n",
    "Username: \n",
    "       -Length of username [6,15]                                 ^[0-9a-zA-Z][0-9a-zA-Z_.]{4,13}[0-9a-zA-Z]\n",
    "       -No special charecters other than _.\n",
    "       -Should not begin and end with _.\n",
    "       - Charecter Set : all digits and lower case alphabets\n",
    "       \n",
    "Domain: \n",
    "       -Lenght of domain [3,15]                                    ^[A-Za-z0-9]{3,12}\n",
    "       -No Special charecters\n",
    "       - Charecter Set : all digits and lower case alphabets\n",
    "\n",
    "Extension: \n",
    "       -Length of extension [2,4]                                     ^[a-z]{2,4}\n",
    "       -No Special charecters\n",
    "       - Charecter Set : only lower case alphabets\n",
    "       \n",
    "       \n",
    "- Any String of lenght 5 that starts with 'a' and ends with z\n",
    "\n",
    "^[a]...[z]$ -> Any string if lenght 5 starts with 'a' and ends with 'z'\n",
    "^[a]*[z]$ -> Any string of any length that starts with 'a' and ends with 'z' \n",
    "\n",
    "\n",
    "\n",
    "                              "
   ]
  },
  {
   "cell_type": "code",
   "execution_count": 16,
   "metadata": {},
   "outputs": [
    {
     "name": "stdout",
     "output_type": "stream",
     "text": [
      "Invalid\n"
     ]
    }
   ],
   "source": [
    "# Function to validate a phone number\n",
    "import re\n",
    "\n",
    "def phoneNumberValidator(number):\n",
    "    pattern = '^[6-9][0-9{9}$|^[0][6-9][0-9]{9}|^[+][9][1][6-9][0-9]{9}$'\n",
    "    if re.match(pattern,str(number)):\n",
    "        print(\"Valid\")\n",
    "\n",
    "    else:\n",
    "        print(\"Invalid\")\n",
    "\n",
    "phoneNumberValidator(9876543210)"
   ]
  },
  {
   "cell_type": "markdown",
   "metadata": {},
   "source": [
    "#### File Handlong in Python\n",
    "\n",
    "File- Document containing information residing on the permanent storage\n",
    "Types - Text, PDF, CSV, iJPEG, PNG, Markup related programming types etc..\n",
    "\n",
    "- File I/O- Channelling I/O data to files  \n",
    "- Default I/O - Keyboard? Screen\n",
    "\n",
    "- Change I/O channel to files for reading and writing\n",
    "- Read a file: Input from a file\n",
    "- Write a file: Output to a file \n",
    " \n",
    " \n",
    " Read/Write a file - open(filename,mode)\n",
    " \n",
    "\n"
   ]
  },
  {
   "cell_type": "code",
   "execution_count": 12,
   "metadata": {},
   "outputs": [
    {
     "data": {
      "text/plain": [
       "'Line1\\nLine2\\nLine3\\n'"
      ]
     },
     "execution_count": 12,
     "metadata": {},
     "output_type": "execute_result"
    }
   ],
   "source": [
    "#Function to read a file \n",
    "\n",
    "def readFile(filename):\n",
    "    f = open(filename,'r')\n",
    "    filedata = f.read()\n",
    "    f.close()\n",
    "    return filedata\n",
    "\n",
    "filename = 'Datafiles/data.txt'\n",
    "readFile(filename)\n",
    "    \n"
   ]
  },
  {
   "cell_type": "code",
   "execution_count": 15,
   "metadata": {},
   "outputs": [
    {
     "name": "stdout",
     "output_type": "stream",
     "text": [
      "Line1\n",
      "Line2\n",
      "Line3\n",
      "\n"
     ]
    }
   ],
   "source": [
    "#Function to read a file \n",
    "\n",
    "def readFile(filename):\n",
    "    f = open(filename,'r')\n",
    "    filedata = f.read()\n",
    "    f.close()\n",
    "    return filedata\n",
    "\n",
    "filename = 'Datafiles/data.txt'\n",
    "filedata = readFile(filename)\n",
    "for line in readFile(filename).split('\\n'):\n",
    "    print(line)\n",
    "\n",
    "    \n"
   ]
  },
  {
   "cell_type": "code",
   "execution_count": 37,
   "metadata": {},
   "outputs": [
    {
     "name": "stdout",
     "output_type": "stream",
     "text": [
      "newdata\n",
      "Line2\n",
      "Line3newdata\n",
      "Line2\n",
      "Line3\n"
     ]
    }
   ],
   "source": [
    "def printFileDataLines(filename):\n",
    "    f = open(filename,'r')\n",
    "    for line in f:\n",
    "        print(line, end='')\n",
    "    return\n",
    "\n",
    "printFileDataLines(filename)\n",
    "print(readFile(filename))"
   ]
  },
  {
   "cell_type": "code",
   "execution_count": 33,
   "metadata": {},
   "outputs": [],
   "source": [
    "def writeIntoFile(filename, filedata):\n",
    "    with open(filename,'w') as f:\n",
    "        f.write(filedata)\n",
    "    return\n",
    "    \n",
    "filename ='Datafiles/data.txt'\n",
    "\n",
    "writeIntoFile(filename, \"newdata\\n\")"
   ]
  },
  {
   "cell_type": "code",
   "execution_count": 42,
   "metadata": {},
   "outputs": [
    {
     "name": "stdout",
     "output_type": "stream",
     "text": [
      "Python Programming\n"
     ]
    }
   ],
   "source": [
    "def appendDatatoFile(filename, filedata):\n",
    "    with open(filename,'a') as f:\n",
    "        f.write(filedata)\n",
    "    return\n",
    "\n",
    "filedata =input()\n",
    "appendDatatoFile(filename, filedata)\n"
   ]
  },
  {
   "cell_type": "code",
   "execution_count": null,
   "metadata": {},
   "outputs": [],
   "source": []
  }
 ],
 "metadata": {
  "kernelspec": {
   "display_name": "Python 3",
   "language": "python",
   "name": "python3"
  },
  "language_info": {
   "codemirror_mode": {
    "name": "ipython",
    "version": 3
   },
   "file_extension": ".py",
   "mimetype": "text/x-python",
   "name": "python",
   "nbconvert_exporter": "python",
   "pygments_lexer": "ipython3",
   "version": "3.7.3"
  }
 },
 "nbformat": 4,
 "nbformat_minor": 2
}
