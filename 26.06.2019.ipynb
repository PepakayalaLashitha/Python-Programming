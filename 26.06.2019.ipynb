{
 "cells": [
  {
   "cell_type": "code",
   "execution_count": 8,
   "metadata": {},
   "outputs": [
    {
     "name": "stdout",
     "output_type": "stream",
     "text": [
      "0 1 2 3 4 5 6 7 8 9 10 11 12 13 14 15 16 17 18 19 20 "
     ]
    }
   ],
   "source": [
    "#Program to print n natural numbers\n",
    "def nNaturalNumbers(n):\n",
    "    counter=0\n",
    "    while counter<=n:\n",
    "        print(counter, end=\" \")\n",
    "        counter= counter+1\n",
    "    return\n",
    "        \n",
    "nNaturalNumbers(20)"
   ]
  },
  {
   "cell_type": "code",
   "execution_count": 20,
   "metadata": {},
   "outputs": [
    {
     "name": "stdout",
     "output_type": "stream",
     "text": [
      "Enter a number-1\n",
      "-1  is negative\n"
     ]
    }
   ],
   "source": [
    "#program to check whethere the numbers is postive or negative\n",
    "num= int(input(\"Enter a number\"))\n",
    "if num<=0:\n",
    "    print(num,\" is negative\")\n",
    "el:\n",
    "    print(num,\" is positive\")\n",
    "    "
   ]
  },
  {
   "cell_type": "code",
   "execution_count": 30,
   "metadata": {},
   "outputs": [
    {
     "name": "stdout",
     "output_type": "stream",
     "text": [
      "Enter year : 2004\n",
      "2004  is Leap year\n"
     ]
    }
   ],
   "source": [
    "#program to check whethere the year is Leap year or not\n",
    "year= int(input(\"Enter year : \"))\n",
    "if (year%4==0 and year%100!=0) or (year%400==0):\n",
    "    print(year,\" is Leap year\")\n",
    "elif year%100==0:\n",
    "    print(year,\"is not Leap year\")\n",
    "else:\n",
    "    print(\"This isnt leap year\")"
   ]
  },
  {
   "cell_type": "code",
   "execution_count": 37,
   "metadata": {},
   "outputs": [
    {
     "data": {
      "text/plain": [
       "7686"
      ]
     },
     "execution_count": 37,
     "metadata": {},
     "output_type": "execute_result"
    }
   ],
   "source": [
    "#program to print the number of days in between years\n",
    "def numberOfDays(startyear, endyear):\n",
    "    sum=0\n",
    "    for i in range(startyear,endyear+1):\n",
    "        if (year%4==0 and year%100!=0) or (year%400==0):\n",
    "            sum= sum+366\n",
    "        else:\n",
    "            sum=sum+355\n",
    "    return sum\n",
    "\n",
    "numberOfDays(2000,2020)"
   ]
  },
  {
   "cell_type": "code",
   "execution_count": 42,
   "metadata": {},
   "outputs": [
    {
     "name": "stdout",
     "output_type": "stream",
     "text": [
      "2004 2008 2012 2016 2020 "
     ]
    }
   ],
   "source": [
    "#program to generate Leap years\n",
    "def generateLeapYear(startyear,endyear):\n",
    "    for year in range(startyear, endyear+1):\n",
    "         if (year%4==0 and year%100!=0) or (year%400==0):\n",
    "                print(year, end=\" \")\n",
    "    return\n",
    "generateLeapYear(2004,2020)"
   ]
  },
  {
   "cell_type": "code",
   "execution_count": 46,
   "metadata": {},
   "outputs": [
    {
     "name": "stdout",
     "output_type": "stream",
     "text": [
      "Enter number : 5\n",
      "120\n"
     ]
    }
   ],
   "source": [
    "#program to print factorial of a number\n",
    "def Factorial(num):\n",
    "    if num==1:\n",
    "        return num\n",
    "    else:\n",
    "        return num* (Factorial(num-1))\n",
    "num= int(input(\"Enter number : \"))\n",
    "if num<0:\n",
    "    print(num,\" Factorial cannot be found for negative numbers\")\n",
    "elif num==0:\n",
    "    print(\"Factorial of Zero is 1\")\n",
    "else:\n",
    "    print(Factorial(num))"
   ]
  },
  {
   "cell_type": "code",
   "execution_count": 55,
   "metadata": {},
   "outputs": [
    {
     "name": "stdout",
     "output_type": "stream",
     "text": [
      "Lashitha Vishnu Priya\n",
      "Vishnu Murthy\n",
      "Rajini\n",
      "\"Family is Everything!\"\n"
     ]
    }
   ],
   "source": [
    "#program to read a file\n",
    "def readFile(filepath):\n",
    "        with open(filepath,'r') as f:\n",
    "            filedata= f.read()\n",
    "        return filedata\n",
    "    \n",
    "filepath='DataFiles/data.txt'\n",
    "print(readFile(filepath))"
   ]
  },
  {
   "cell_type": "code",
   "execution_count": 63,
   "metadata": {},
   "outputs": [
    {
     "name": "stdout",
     "output_type": "stream",
     "text": [
      "['Lashitha Vishnu Priya', 'Vishnu Murthy', 'Rajini Devi', '\"Family is Everything!\"', '']\n"
     ]
    }
   ],
   "source": [
    "#program to read a file into a list\n",
    "def readFileIntoList(filepath):\n",
    "    with open(filepath,'r') as f:\n",
    "        filedata= f.read()\n",
    "        lines= filedata.split('\\n')\n",
    "    return lines\n",
    "\n",
    "filepath='DataFiles/data.txt'\n",
    "print(readFileIntoList(filepath))\n"
   ]
  },
  {
   "cell_type": "code",
   "execution_count": 74,
   "metadata": {},
   "outputs": [
    {
     "data": {
      "text/plain": [
       "5"
      ]
     },
     "execution_count": 74,
     "metadata": {},
     "output_type": "execute_result"
    }
   ],
   "source": [
    "# program to count lines of a file\n",
    "\n",
    "def countLines(filepath):\n",
    "    count= len(readFileIntoList(filepath))\n",
    "    return count\n",
    "\n",
    "filepath='DataFiles/data.txt'\n",
    "countLines(filepath)"
   ]
  },
  {
   "cell_type": "code",
   "execution_count": 76,
   "metadata": {},
   "outputs": [
    {
     "data": {
      "text/plain": [
       "72"
      ]
     },
     "execution_count": 76,
     "metadata": {},
     "output_type": "execute_result"
    }
   ],
   "source": [
    "# program to count the cnumber of charecter in a file\n",
    "\n",
    "def charCount(filepath):\n",
    "    count= len(readFile(filepath))\n",
    "    return count\n",
    "\n",
    "filepath='DataFiles/data.txt'\n",
    "charCount(filepath)"
   ]
  },
  {
   "cell_type": "code",
   "execution_count": 79,
   "metadata": {},
   "outputs": [
    {
     "data": {
      "text/plain": [
       "11"
      ]
     },
     "execution_count": 79,
     "metadata": {},
     "output_type": "execute_result"
    }
   ],
   "source": [
    "import re\n",
    "def wordCount(filepath):\n",
    "    pattern= '[ \\n]'\n",
    "    filedata= readFile(filepath)\n",
    "    count= len(re.split(pattern,filedata))\n",
    "    return count\n",
    "\n",
    "filepath='DataFiles/data.txt'\n",
    "wordCount(filepath)"
   ]
  },
  {
   "cell_type": "code",
   "execution_count": 81,
   "metadata": {},
   "outputs": [
    {
     "data": {
      "text/plain": [
       "4"
      ]
     },
     "execution_count": 81,
     "metadata": {},
     "output_type": "execute_result"
    }
   ],
   "source": [
    "#program to find the second largest number\n",
    "\n",
    "def secondLargest(li):  #conver the list into a unique list\n",
    "    unique=[]\n",
    "    for n in li:\n",
    "        if n not in unique:\n",
    "            unique.append(n)\n",
    "    unique= sorted(unique,reverse= True)\n",
    "    return unique[1]\n",
    "secondLargest([2,6,1,2,1,4,6,2,3,2,0])\n",
    "    "
   ]
  },
  {
   "cell_type": "code",
   "execution_count": 87,
   "metadata": {},
   "outputs": [
    {
     "data": {
      "text/plain": [
       "-1"
      ]
     },
     "execution_count": 87,
     "metadata": {},
     "output_type": "execute_result"
    }
   ],
   "source": [
    "def kSmallest(li,k): #extract unique elements in the list\n",
    "    unique=[]\n",
    "    for i in li:\n",
    "        if i not in unique:\n",
    "            unique.append(i)  #sort the unique list in ascending order\n",
    "    unique= sorted(unique)        #check if length of unique list is greater than k \n",
    "    if len(unique)>=k:\n",
    "        unique[k-1]\n",
    "    return -1\n",
    "\n",
    "kSmallest([3,3,9],2)\n"
   ]
  },
  {
   "cell_type": "code",
   "execution_count": 112,
   "metadata": {},
   "outputs": [
    {
     "data": {
      "text/plain": [
       "2"
      ]
     },
     "execution_count": 112,
     "metadata": {},
     "output_type": "execute_result"
    }
   ],
   "source": [
    "#function to identify the element with highest frequency in a list\n",
    "# if many elements have the highest frequency, return the smallest\n",
    "# highestfrequencyElement([1,2,3,9,8,7,3,4,2,1]) ->1\n",
    "def highestFrequencyElement(li):\n",
    "    unique = {}\n",
    "    for n in li:\n",
    "        if n in unique:\n",
    "            unique[n] +=1\n",
    "        else:\n",
    "            unique[n]=1          #getting all frequencies into a list\n",
    "            freq= unique.values()\n",
    "            maxfreq= max(freq)\n",
    "            maxfreqE = []\n",
    "\n",
    "#Identify the smallest number with maximum frequency\n",
    "    for item in unique.items():\n",
    "        if item[1]==maxfreq:\n",
    "            maxfreqE.append(item[0])\n",
    "#Select the minimum form the keys with maximum frequency\n",
    "            maxfreqE= sorted(maxfreqE, reverse=True)   #minfreqE[k-1]\n",
    "    return maxfreqE[2-1]\n",
    "    \n",
    "\n",
    "highestFrequencyElement([1,2,3,9,8,7,3,4,2,1])\n",
    "        "
   ]
  },
  {
   "cell_type": "code",
   "execution_count": 88,
   "metadata": {},
   "outputs": [
    {
     "name": "stdout",
     "output_type": "stream",
     "text": [
      "23456789\n",
      "98765432\n"
     ]
    }
   ],
   "source": [
    "reverse = ''\n",
    "num = input()\n",
    "for i in range(len(num), 0, -1):\n",
    "    reverse += num[i-1]\n",
    "print(int(reverse))"
   ]
  },
  {
   "cell_type": "code",
   "execution_count": 123,
   "metadata": {},
   "outputs": [
    {
     "data": {
      "text/plain": [
       "1"
      ]
     },
     "execution_count": 123,
     "metadata": {},
     "output_type": "execute_result"
    }
   ],
   "source": [
    "#program to identify the highest frequency element\n",
    "def highestFrequencyElement(li):\n",
    "    unique = {}\n",
    "    for n in li:\n",
    "        if n in unique:\n",
    "            unique[n] +=1\n",
    "        else:\n",
    "            unique[n]=1\n",
    "            maxfreq= max(unique.values())  #unique= {1:2,2:2,3:2,9:1,8:1,7:1}\n",
    "            maxfreqkeys=[]\n",
    "            for item in unique.items(): \n",
    "                if item[1]== maxfreq:\n",
    "                    maxfreqkeys.append(item[0])\n",
    "            return min(maxfreqkeys)\n",
    "        \n",
    "highestFrequencyElement([1,2,3,9,8,7,3,4,2,1])\n",
    "        \n",
    "                "
   ]
  },
  {
   "cell_type": "code",
   "execution_count": 147,
   "metadata": {},
   "outputs": [
    {
     "ename": "FileNotFoundError",
     "evalue": "[Errno 2] No such file or directory: 'DataFiles/k-largest-frequency-input.txt'",
     "output_type": "error",
     "traceback": [
      "\u001b[1;31m---------------------------------------------------------------------------\u001b[0m",
      "\u001b[1;31mFileNotFoundError\u001b[0m                         Traceback (most recent call last)",
      "\u001b[1;32m<ipython-input-147-68666d796979>\u001b[0m in \u001b[0;36m<module>\u001b[1;34m\u001b[0m\n\u001b[0;32m     19\u001b[0m     \u001b[1;32mreturn\u001b[0m \u001b[0mkfreqchar\u001b[0m\u001b[1;33m\u001b[0m\u001b[1;33m\u001b[0m\u001b[0m\n\u001b[0;32m     20\u001b[0m \u001b[1;33m\u001b[0m\u001b[0m\n\u001b[1;32m---> 21\u001b[1;33m \u001b[1;32mwith\u001b[0m \u001b[0mopen\u001b[0m\u001b[1;33m(\u001b[0m\u001b[1;34m'DataFiles/k-largest-frequency-input.txt'\u001b[0m\u001b[1;33m,\u001b[0m\u001b[1;34m'r'\u001b[0m\u001b[1;33m)\u001b[0m \u001b[1;32mas\u001b[0m \u001b[0mf\u001b[0m\u001b[1;33m:\u001b[0m\u001b[1;33m\u001b[0m\u001b[1;33m\u001b[0m\u001b[0m\n\u001b[0m\u001b[0;32m     22\u001b[0m     \u001b[0mt\u001b[0m\u001b[1;33m=\u001b[0m \u001b[0mint\u001b[0m\u001b[1;33m(\u001b[0m\u001b[0mf\u001b[0m\u001b[1;33m.\u001b[0m\u001b[0mrealine\u001b[0m\u001b[1;33m(\u001b[0m\u001b[1;33m)\u001b[0m\u001b[1;33m)\u001b[0m\u001b[1;33m\u001b[0m\u001b[1;33m\u001b[0m\u001b[0m\n\u001b[0;32m     23\u001b[0m     \u001b[1;32mfor\u001b[0m \u001b[0mi\u001b[0m \u001b[1;32min\u001b[0m \u001b[0mrange\u001b[0m\u001b[1;33m(\u001b[0m\u001b[0mt\u001b[0m\u001b[1;33m)\u001b[0m\u001b[1;33m:\u001b[0m\u001b[1;33m\u001b[0m\u001b[1;33m\u001b[0m\u001b[0m\n",
      "\u001b[1;31mFileNotFoundError\u001b[0m: [Errno 2] No such file or directory: 'DataFiles/k-largest-frequency-input.txt'"
     ]
    }
   ],
   "source": [
    "def kHighestFrequency(s,k):\n",
    "    unique= {}\n",
    "    for c in s:\n",
    "        if c not in unique:\n",
    "            unique[c]=1\n",
    "        else:\n",
    "            unique[c]+=1 #unique={9:2, 8:1, 7:5, 6:4, 5:1, 2:1, 3:1, 4:1}\n",
    "    uniqfreq=[]\n",
    "    for value in unique.values():\n",
    "        if value not in uniqfreq:\n",
    "            uniqfreq.append(value)\n",
    "    uniqfreq = sorted(uniqfreq,reverse=True)\n",
    "    if len(uniqfreq)>=k:\n",
    "        kfreq= uniqfreq[k-1] \n",
    "        kfreqchar= []\n",
    "    for item in unique.items():\n",
    "        if item[1]== kfreq:\n",
    "            kfreqchar.append(item[0])\n",
    "    return kfreqchar\n",
    "\n",
    "with open('DataFiles/k-largest-frequency-input.txt','r') as f:\n",
    "    t= int(f.realine())\n",
    "    for i in range(t):\n",
    "        s= f.readline()\n",
    "        k= int(f.readline())\n",
    "        print(kHighestFrequency(s,k))\n",
    "        \n",
    "KHighestFrequency([9,8,7,6,5,2,3,4,9,6,7,7,7,6,7,6,6],1)            "
   ]
  },
  {
   "cell_type": "code",
   "execution_count": null,
   "metadata": {},
   "outputs": [],
   "source": []
  }
 ],
 "metadata": {
  "kernelspec": {
   "display_name": "Python 3",
   "language": "python",
   "name": "python3"
  },
  "language_info": {
   "codemirror_mode": {
    "name": "ipython",
    "version": 3
   },
   "file_extension": ".py",
   "mimetype": "text/x-python",
   "name": "python",
   "nbconvert_exporter": "python",
   "pygments_lexer": "ipython3",
   "version": "3.7.3"
  }
 },
 "nbformat": 4,
 "nbformat_minor": 2
}
